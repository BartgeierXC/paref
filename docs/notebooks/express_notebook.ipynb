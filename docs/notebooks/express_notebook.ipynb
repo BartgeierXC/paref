{
 "cells": [
  {
   "cell_type": "code",
   "execution_count": 1,
   "id": "initial_id",
   "metadata": {
    "collapsed": true,
    "ExecuteTime": {
     "end_time": "2023-11-26T21:17:52.683060Z",
     "start_time": "2023-11-26T21:17:50.784522Z"
    }
   },
   "outputs": [],
   "source": [
    "import numpy as np\n",
    "from scipy.stats import qmc\n",
    "\n",
    "from paref.black_box_functions.design_space.bounds import Bounds\n",
    "from paref.express.info import Info\n",
    "from paref.interfaces.moo_algorithms.blackbox_function import BlackboxFunction\n",
    "\n",
    "\n",
    "class ZDT1(BlackboxFunction):\n",
    "    def __call__(self, x: np.ndarray) -> np.ndarray:\n",
    "        n = len(x)\n",
    "        f1 = x[0]\n",
    "        g = 1 + 9 / (n - 1) * np.sum(x[1:])\n",
    "        h = 1 - np.sqrt(f1 / g)\n",
    "        f2 = g * h\n",
    "        y = np.array([f1, f2])\n",
    "        return y\n",
    "\n",
    "    @property\n",
    "    def dimension_design_space(self) -> int:\n",
    "        return 2\n",
    "\n",
    "    @property\n",
    "    def dimension_target_space(self) -> int:\n",
    "        return 2\n",
    "\n",
    "    @property\n",
    "    def design_space(self) -> Bounds:\n",
    "        return Bounds(upper_bounds=np.ones(self.dimension_design_space),\n",
    "                      lower_bounds=np.zeros(self.dimension_design_space))"
   ]
  },
  {
   "cell_type": "code",
   "execution_count": 3,
   "outputs": [],
   "source": [
    "import numpy as np\n",
    "from paref.black_box_functions.design_space.bounds import Bounds\n",
    "from paref.interfaces.moo_algorithms.blackbox_function import BlackboxFunction\n",
    "\n",
    "\n",
    "class ZDT2(BlackboxFunction):\n",
    "    def __call__(self, x: np.ndarray) -> np.ndarray:\n",
    "        n = len(x)\n",
    "        f1 = x[0]\n",
    "        g = 1 + 9 / (n - 1) * np.sum(x[1:])\n",
    "        h = 1 - (f1 / g) ** 2\n",
    "        f2 = g * h\n",
    "        y = np.array([f1, f2])\n",
    "        self._evaluations.append([x, y])  # store evaluation\n",
    "        return y\n",
    "\n",
    "    @property\n",
    "    def dimension_design_space(self) -> int:\n",
    "        return 5\n",
    "\n",
    "    @property\n",
    "    def dimension_target_space(self) -> int:\n",
    "        return 2\n",
    "\n",
    "    @property\n",
    "    def design_space(self) -> Bounds:\n",
    "        return Bounds(upper_bounds=np.ones(self.dimension_design_space),\n",
    "                      lower_bounds=np.zeros(self.dimension_design_space))"
   ],
   "metadata": {
    "collapsed": false,
    "ExecuteTime": {
     "end_time": "2023-11-26T21:17:52.690142Z",
     "start_time": "2023-11-26T21:17:52.688405Z"
    }
   },
   "id": "b2d4243fe9875a96"
  },
  {
   "cell_type": "code",
   "execution_count": 4,
   "outputs": [],
   "source": [
    "bbf = ZDT1() #  2 concave, 1 convex"
   ],
   "metadata": {
    "collapsed": false,
    "ExecuteTime": {
     "end_time": "2023-11-26T21:17:52.697729Z",
     "start_time": "2023-11-26T21:17:52.691302Z"
    }
   },
   "id": "aaebafd33cdc4e3d"
  },
  {
   "cell_type": "code",
   "execution_count": 5,
   "outputs": [],
   "source": [
    "pareto_points_of_bbf = [\n",
    "    i * np.eye(1, bbf.dimension_design_space, 0)[0]\n",
    "    for i in np.arange(0, 1, 0.01)\n",
    "]\n",
    "pareto_front_of_bbf = np.array([bbf(point) for point in pareto_points_of_bbf])\n",
    "bbf.clear_evaluations()"
   ],
   "metadata": {
    "collapsed": false,
    "ExecuteTime": {
     "end_time": "2023-11-26T21:17:52.697897Z",
     "start_time": "2023-11-26T21:17:52.694889Z"
    }
   },
   "id": "d47354717f522014"
  },
  {
   "cell_type": "code",
   "execution_count": 6,
   "outputs": [
    {
     "data": {
      "text/plain": "[array([0.41819886, 5.39416698]),\n array([0.65430428, 5.77276511]),\n array([0.87994431, 1.22911899]),\n array([0.35760194, 6.00109302]),\n array([0.84677927, 1.9512573 ]),\n array([0.29629497, 0.68225741]),\n array([0.02630657, 1.92205152]),\n array([0.74244192, 0.51853671]),\n array([0.55491474, 6.67415117]),\n array([0.5424936 , 1.99300615]),\n array([0.15865686, 4.96598708]),\n array([0.3432692 , 4.89934188]),\n array([0.13933241, 2.32727261]),\n array([0.61897573, 5.98782712]),\n array([0.08079227, 9.09207235]),\n array([0.95510185, 4.27405466]),\n array([0.20055473, 7.83246533]),\n array([0.78135793, 2.97466798]),\n array([0.91655866, 3.06925629]),\n array([0.48312854, 2.93279253])]"
     },
     "execution_count": 6,
     "metadata": {},
     "output_type": "execute_result"
    }
   ],
   "source": [
    "[bbf(x) for x in qmc.scale(qmc.LatinHypercube(d=bbf.dimension_design_space).random(n=20), bbf.design_space.lower_bounds,\n",
    "                           bbf.design_space.upper_bounds)]  # add samples according to latin hypercube scheme"
   ],
   "metadata": {
    "collapsed": false,
    "ExecuteTime": {
     "end_time": "2023-11-26T21:17:52.705516Z",
     "start_time": "2023-11-26T21:17:52.697681Z"
    }
   },
   "id": "40f1e27593a4963a"
  },
  {
   "cell_type": "code",
   "execution_count": 7,
   "outputs": [
    {
     "name": "stdout",
     "output_type": "stream",
     "text": [
      "Obtaining optimal number of training iterations...\n"
     ]
    },
    {
     "name": "stderr",
     "output_type": "stream",
     "text": [
      "100%|██████████| 1000/1000 [00:01<00:00, 874.47it/s]\n",
      "100%|██████████| 1000/1000 [00:01<00:00, 905.75it/s]\n"
     ]
    },
    {
     "name": "stdout",
     "output_type": "stream",
     "text": [
      "Optimal Training iterations: 1000\n",
      "[1.    0.001]\n",
      "[0.001 1.   ]\n",
      "\n",
      "----------------------\n",
      "Training...\n"
     ]
    },
    {
     "name": "stderr",
     "output_type": "stream",
     "text": [
      "100%|██████████| 1000/1000 [00:01<00:00, 885.40it/s]\n",
      "100%|██████████| 1000/1000 [00:01<00:00, 912.20it/s]\n"
     ]
    },
    {
     "name": "stdout",
     "output_type": "stream",
     "text": [
      "\n",
      "Starting Optimization...\n",
      "\n",
      " Found Pareto point: \n",
      " x=[3.03152429e-06 1.69060448e-03] \n",
      " prediction=[6.20039387e-04 1.00633430e+00] \n",
      " standard deviation=[0.01270144 0.1247803 ]\n",
      "\n",
      "Evaluating blackbox function...\n",
      "Value of blackbox function:  [3.03152429e-06 1.01346112e+00]\n",
      "Difference to estimation:  [ 0.00061701 -0.00712682] \n",
      "\n",
      "[1.    0.001]\n",
      "[0.001 1.   ]\n",
      "\n",
      "----------------------\n",
      "Training...\n"
     ]
    },
    {
     "name": "stderr",
     "output_type": "stream",
     "text": [
      "100%|██████████| 1000/1000 [00:01<00:00, 866.94it/s]\n",
      "100%|██████████| 1000/1000 [00:01<00:00, 876.29it/s]\n"
     ]
    },
    {
     "name": "stdout",
     "output_type": "stream",
     "text": [
      "\n",
      "Starting Optimization...\n",
      "\n",
      " Found Pareto point: \n",
      " x=[5.72496823e-07 1.11068136e-03] \n",
      " prediction=[3.12522368e-04 1.00534598e+00] \n",
      " standard deviation=[0.01127355 0.10749457]\n",
      "\n",
      "Evaluating blackbox function...\n",
      "Value of blackbox function:  [5.72496823e-07 1.00923572e+00]\n",
      "Difference to estimation:  [ 0.00031195 -0.00388974] \n",
      "\n",
      "[1.    0.001]\n",
      "[0.001 1.   ]\n",
      "Convergence reached. The 2-distance of the last two points found is 0.004225392927385747.\n",
      "\n",
      "----------------------\n",
      "Training...\n"
     ]
    },
    {
     "name": "stderr",
     "output_type": "stream",
     "text": [
      "100%|██████████| 1000/1000 [00:01<00:00, 845.74it/s]\n",
      "100%|██████████| 1000/1000 [00:01<00:00, 876.16it/s]\n"
     ]
    },
    {
     "name": "stdout",
     "output_type": "stream",
     "text": [
      "\n",
      "Starting Optimization...\n",
      "\n",
      " Found Pareto point: \n",
      " x=[9.32546880e-01 4.91670746e-06] \n",
      " prediction=[9.31672482e-01 3.58822143e-04] \n",
      " standard deviation=[0.01279178 0.12476683]\n",
      "\n",
      "Evaluating blackbox function...\n",
      "Value of blackbox function:  [0.93254688 0.03433822]\n",
      "Difference to estimation:  [-0.0008744  -0.03397939] \n",
      "\n",
      "[1.    0.001]\n",
      "[0.001 1.   ]\n",
      "\n",
      "----------------------\n",
      "Training...\n"
     ]
    },
    {
     "name": "stderr",
     "output_type": "stream",
     "text": [
      "100%|██████████| 1000/1000 [00:01<00:00, 829.14it/s]\n",
      "100%|██████████| 1000/1000 [00:01<00:00, 865.53it/s]\n"
     ]
    },
    {
     "name": "stdout",
     "output_type": "stream",
     "text": [
      "\n",
      "Starting Optimization...\n",
      "\n",
      " Found Pareto point: \n",
      " x=[9.08178144e-01 1.82888906e-06] \n",
      " prediction=[0.90777636 0.0187885 ] \n",
      " standard deviation=[0.01142665 0.11084628]\n",
      "\n",
      "Evaluating blackbox function...\n",
      "Value of blackbox function:  [0.90817814 0.04702481]\n",
      "Difference to estimation:  [-0.00040179 -0.0282363 ] \n",
      "\n",
      "[1.    0.001]\n",
      "[0.001 1.   ]\n",
      "Convergence reached. The 2-distance of the last two points found is 0.02747334768919383.\n",
      "End of sequence reached. Algorithm stopped.\n",
      "Access the best fitting Pareto points by calling the attributes 'minima_components' and 'max_point'.\n"
     ]
    }
   ],
   "source": [
    "from paref.express.express_search import ExpressSearch\n",
    "\n",
    "moo = ExpressSearch(bbf)\n",
    "\n",
    "moo.minimal_search(max_evaluations=10)"
   ],
   "metadata": {
    "collapsed": false,
    "ExecuteTime": {
     "end_time": "2023-11-26T21:18:12.474809Z",
     "start_time": "2023-11-26T21:17:52.703696Z"
    }
   },
   "id": "1632cc2ea41ea110"
  },
  {
   "cell_type": "code",
   "execution_count": 8,
   "outputs": [
    {
     "data": {
      "text/plain": "array([[0.29629497, 0.68225741]])"
     },
     "execution_count": 8,
     "metadata": {},
     "output_type": "execute_result"
    }
   ],
   "source": [
    "moo.max_point"
   ],
   "metadata": {
    "collapsed": false,
    "ExecuteTime": {
     "end_time": "2023-11-26T21:18:12.482923Z",
     "start_time": "2023-11-26T21:18:12.475702Z"
    }
   },
   "id": "99865d55413f4aaa"
  },
  {
   "cell_type": "code",
   "execution_count": 9,
   "outputs": [
    {
     "data": {
      "text/plain": "<matplotlib.collections.PathCollection at 0x16d51cac0>"
     },
     "execution_count": 9,
     "metadata": {},
     "output_type": "execute_result"
    },
    {
     "data": {
      "text/plain": "<Figure size 640x480 with 1 Axes>",
      "image/png": "[encoded data removed]"
     },
     "metadata": {},
     "output_type": "display_data"
    }
   ],
   "source": [
    "import matplotlib.pyplot as plt\n",
    "\n",
    "plt.plot(pareto_front_of_bbf.T[0], pareto_front_of_bbf.T[1])\n",
    "plt.scatter(bbf.y.T[0], bbf.y.T[1])\n",
    "\n"
   ],
   "metadata": {
    "collapsed": false,
    "ExecuteTime": {
     "end_time": "2023-11-26T21:18:12.770600Z",
     "start_time": "2023-11-26T21:18:12.479110Z"
    }
   },
   "id": "e30f4d76402273f1"
  },
  {
   "cell_type": "code",
   "execution_count": 10,
   "outputs": [
    {
     "data": {
      "text/plain": "array([[5.72496823e-07, 1.00923572e+00],\n       [9.32546880e-01, 3.43382157e-02]])"
     },
     "execution_count": 10,
     "metadata": {},
     "output_type": "execute_result"
    }
   ],
   "source": [
    "moo._one_points"
   ],
   "metadata": {
    "collapsed": false,
    "ExecuteTime": {
     "end_time": "2023-11-26T21:18:12.779265Z",
     "start_time": "2023-11-26T21:18:12.773617Z"
    }
   },
   "id": "84da8189e9e4e7ca"
  },
  {
   "cell_type": "code",
   "execution_count": 11,
   "outputs": [
    {
     "data": {
      "text/plain": "24"
     },
     "execution_count": 11,
     "metadata": {},
     "output_type": "execute_result"
    }
   ],
   "source": [
    "len(bbf.y)"
   ],
   "metadata": {
    "collapsed": false,
    "ExecuteTime": {
     "end_time": "2023-11-26T21:18:12.781938Z",
     "start_time": "2023-11-26T21:18:12.777826Z"
    }
   },
   "id": "b0cc0ece9fda3739"
  },
  {
   "cell_type": "markdown",
   "source": [
    "Lets collect a bit of information about our Pareto front before making a decision which Pareto point to look for. \n",
    "This significantly reduces the time and computational effort to obtain good results. "
   ],
   "metadata": {
    "collapsed": false
   },
   "id": "94c4f13b8fa47cd8"
  },
  {
   "cell_type": "code",
   "execution_count": 12,
   "outputs": [
    {
     "name": "stdout",
     "output_type": "stream",
     "text": [
      "Obtaining information about the approximate Pareto front...\n"
     ]
    },
    {
     "name": "stderr",
     "output_type": "stream",
     "text": [
      "100%|██████████| 1000/1000 [00:01<00:00, 800.68it/s]\n",
      "100%|██████████| 1000/1000 [00:01<00:00, 874.29it/s]\n"
     ]
    },
    {
     "name": "stdout",
     "output_type": "stream",
     "text": [
      "[1.    0.001]\n",
      "[0.001 1.   ]\n",
      "Starting minimization...\n",
      "finished!\n",
      "Value of blackbox:  [2.09073027e-04 1.00248129e+00]\n",
      "[1.    0.001]\n",
      "[0.001 1.   ]\n",
      "Starting minimization...\n",
      "finished!\n",
      "Value of blackbox:  [0.9152181  0.02810041]\n",
      "Starting minimization...\n",
      "finished!\n",
      "Value of blackbox:  [0.37189461 0.37334912]\n",
      "Starting minimization...\n",
      "finished!\n",
      "Value of blackbox:  [0.39269855 0.34722742]\n",
      "Done! You can access the following information about your Pareto front:\n",
      "        * model fitness: how well the model approximates the bbf, how to improve it and how certain its estimation is (Info.model_fitness)\n",
      "        * topology: the shape of your Pareto front (Info.topology)\n",
      "        * suggestion_pareto_points: suggestions for Pareto points to evaluate, how and why (Info.suggestion_pareto_points)\n",
      "        * minima: the estimated minima of each component (Info.minima)\n",
      "        \n"
     ]
    }
   ],
   "source": [
    "info = Info(bbf,training_iter=1000)"
   ],
   "metadata": {
    "collapsed": false,
    "ExecuteTime": {
     "end_time": "2023-11-26T21:18:58.427468Z",
     "start_time": "2023-11-26T21:18:12.781348Z"
    }
   },
   "id": "cbcce5a0be28b887"
  },
  {
   "cell_type": "code",
   "execution_count": 13,
   "outputs": [
    {
     "data": {
      "text/plain": "24"
     },
     "execution_count": 13,
     "metadata": {},
     "output_type": "execute_result"
    }
   ],
   "source": [
    "len(bbf.y)"
   ],
   "metadata": {
    "collapsed": false,
    "ExecuteTime": {
     "end_time": "2023-11-26T21:18:58.430676Z",
     "start_time": "2023-11-26T21:18:58.428284Z"
    }
   },
   "id": "550ea094d018052b"
  },
  {
   "cell_type": "code",
   "execution_count": 14,
   "outputs": [
    {
     "data": {
      "text/plain": "array([[5.72496823e-07, 1.00923572e+00],\n       [9.15218104e-01, 2.81004072e-02]])"
     },
     "execution_count": 14,
     "metadata": {},
     "output_type": "execute_result"
    }
   ],
   "source": [
    "info.edge_points"
   ],
   "metadata": {
    "collapsed": false,
    "ExecuteTime": {
     "end_time": "2023-11-26T21:18:58.438782Z",
     "start_time": "2023-11-26T21:18:58.431257Z"
    }
   },
   "id": "31a4695d600f86c8"
  },
  {
   "cell_type": "code",
   "execution_count": 15,
   "outputs": [
    {
     "data": {
      "text/plain": "24"
     },
     "execution_count": 15,
     "metadata": {},
     "output_type": "execute_result"
    }
   ],
   "source": [
    "len(bbf.y)"
   ],
   "metadata": {
    "collapsed": false,
    "ExecuteTime": {
     "end_time": "2023-11-26T21:18:58.438924Z",
     "start_time": "2023-11-26T21:18:58.434778Z"
    }
   },
   "id": "54c05c0f32f86264"
  },
  {
   "cell_type": "code",
   "execution_count": 16,
   "outputs": [
    {
     "data": {
      "text/plain": "array([0.37189461, 0.37334912])"
     },
     "execution_count": 16,
     "metadata": {},
     "output_type": "execute_result"
    }
   ],
   "source": [
    "info.maximal_pareto_point"
   ],
   "metadata": {
    "collapsed": false,
    "ExecuteTime": {
     "end_time": "2023-11-26T21:18:58.443144Z",
     "start_time": "2023-11-26T21:18:58.438094Z"
    }
   },
   "id": "3dac35563905fdcd"
  },
  {
   "cell_type": "code",
   "execution_count": 17,
   "outputs": [
    {
     "data": {
      "text/plain": "24"
     },
     "execution_count": 17,
     "metadata": {},
     "output_type": "execute_result"
    }
   ],
   "source": [
    "len(bbf.y)"
   ],
   "metadata": {
    "collapsed": false,
    "ExecuteTime": {
     "end_time": "2023-11-26T21:18:58.443298Z",
     "start_time": "2023-11-26T21:18:58.441203Z"
    }
   },
   "id": "af86f0711945db24"
  },
  {
   "cell_type": "code",
   "execution_count": 18,
   "outputs": [
    {
     "name": "stdout",
     "output_type": "stream",
     "text": [
      "(Almost) Global optimum    Shape      Dimension Pareto front\n",
      "-------------------------  -------  ------------------------\n",
      "False                      Convex                          1\n"
     ]
    }
   ],
   "source": [
    "info.topology"
   ],
   "metadata": {
    "collapsed": false,
    "ExecuteTime": {
     "end_time": "2023-11-26T21:18:58.467923Z",
     "start_time": "2023-11-26T21:18:58.444602Z"
    }
   },
   "id": "3441bf322a35fa50"
  },
  {
   "cell_type": "code",
   "execution_count": 19,
   "outputs": [
    {
     "name": "stdout",
     "output_type": "stream",
     "text": [
      "  Component      Minimum        Std\n",
      "-----------  -----------  ---------\n",
      "          0  5.72497e-07  0.0115024\n",
      "          1  0.0281004    0.105044\n"
     ]
    }
   ],
   "source": [
    "info.minima"
   ],
   "metadata": {
    "collapsed": false,
    "ExecuteTime": {
     "end_time": "2023-11-26T21:18:58.468164Z",
     "start_time": "2023-11-26T21:18:58.447022Z"
    }
   },
   "id": "722262aa0f783e48"
  },
  {
   "cell_type": "code",
   "execution_count": 20,
   "outputs": [
    {
     "name": "stdout",
     "output_type": "stream",
     "text": [
      "The model has converged. The training iterations seem to be sufficient.\n",
      "The uncertainty of your model seems to be low. Accordingly, you might only need few evaluations to obtain good results. I suggest you allow each algorithm the minimal number of evaluations by using the convergence_reached stopping criterion.\n",
      "  Component    Average uncertainty (%) at 1000 training iterations\n",
      "-----------  -----------------------------------------------------\n",
      "          0                                                8.99888\n",
      "          1                                                5.43\n"
     ]
    },
    {
     "data": {
      "text/plain": "<Figure size 640x480 with 2 Axes>",
      "image/png": "[encoded data removed]"
     },
     "metadata": {},
     "output_type": "display_data"
    }
   ],
   "source": [
    "info.model_fitness"
   ],
   "metadata": {
    "collapsed": false,
    "ExecuteTime": {
     "end_time": "2023-11-26T21:18:58.590728Z",
     "start_time": "2023-11-26T21:18:58.449480Z"
    }
   },
   "id": "78a1f93c6690029a"
  },
  {
   "cell_type": "code",
   "execution_count": 20,
   "outputs": [],
   "source": [],
   "metadata": {
    "collapsed": false,
    "ExecuteTime": {
     "end_time": "2023-11-26T21:18:58.592779Z",
     "start_time": "2023-11-26T21:18:58.590655Z"
    }
   },
   "id": "ac3d359af322f799"
  },
  {
   "cell_type": "code",
   "execution_count": 21,
   "outputs": [
    {
     "name": "stdout",
     "output_type": "stream",
     "text": [
      "\n",
      "            Your objectives appear to be conflicting, so there are real trade-offs.\n",
      "            As your Pareto front appears to be convex, you may be able to achieve improvements in all\n",
      "            components while suffering a smaller loss in others.\n",
      "            A Pareto point that represents a real trade-off in all components I've found is\n",
      "            \n",
      "Target values                              Std                                            Dominates x% of evaluations\n",
      "-----------------------------------------  -------------------------------------------  -----------------------------\n",
      "[0.37189461373932603, 0.3733491234955532]  [0.011039298952830024, 0.10915292586874037]                             50\n",
      "\n",
      "            You can get the corresponding design by using ...\n",
      "            \n"
     ]
    }
   ],
   "source": [
    "info.suggestion_pareto_points"
   ],
   "metadata": {
    "collapsed": false,
    "ExecuteTime": {
     "end_time": "2023-11-26T21:18:58.595496Z",
     "start_time": "2023-11-26T21:18:58.593296Z"
    }
   },
   "id": "a9b73c106af4e07a"
  },
  {
   "cell_type": "code",
   "execution_count": 22,
   "outputs": [],
   "source": [
    "# express search THEN use update"
   ],
   "metadata": {
    "collapsed": false,
    "ExecuteTime": {
     "end_time": "2023-11-26T21:18:58.603444Z",
     "start_time": "2023-11-26T21:18:58.596067Z"
    }
   },
   "id": "2115b02dc8171832"
  },
  {
   "cell_type": "code",
   "execution_count": 22,
   "outputs": [],
   "source": [],
   "metadata": {
    "collapsed": false,
    "ExecuteTime": {
     "end_time": "2023-11-26T21:18:58.603626Z",
     "start_time": "2023-11-26T21:18:58.598340Z"
    }
   },
   "id": "d8e1a50d9f66f4f8"
  },
  {
   "cell_type": "code",
   "execution_count": 22,
   "outputs": [],
   "source": [],
   "metadata": {
    "collapsed": false,
    "ExecuteTime": {
     "end_time": "2023-11-26T21:18:58.603665Z",
     "start_time": "2023-11-26T21:18:58.600615Z"
    }
   },
   "id": "1f7ee2b97fa93a5f"
  },
  {
   "cell_type": "code",
   "execution_count": 23,
   "outputs": [
    {
     "data": {
      "text/plain": "array([[5.72496823e-07, 1.00923572e+00],\n       [9.15218104e-01, 2.81004072e-02]])"
     },
     "execution_count": 23,
     "metadata": {},
     "output_type": "execute_result"
    }
   ],
   "source": [
    "info._minima_pareto_points"
   ],
   "metadata": {
    "collapsed": false,
    "ExecuteTime": {
     "end_time": "2023-11-26T21:18:58.606536Z",
     "start_time": "2023-11-26T21:18:58.604265Z"
    }
   },
   "id": "d36cb276cd832d07"
  },
  {
   "cell_type": "code",
   "execution_count": 24,
   "outputs": [
    {
     "data": {
      "text/plain": "array([[4.18198859e-01, 6.79966161e-01],\n       [6.54304280e-01, 7.85638656e-01],\n       [8.79944311e-01, 1.99812051e-01],\n       [3.57601942e-01, 7.39521052e-01],\n       [8.46779274e-01, 3.03110229e-01],\n       [2.96294969e-01, 3.37548731e-02],\n       [2.63065699e-02, 1.28938937e-01],\n       [7.42441915e-01, 6.80887479e-02],\n       [5.54914737e-01, 8.77330742e-01],\n       [5.42493603e-01, 2.59872692e-01],\n       [1.58656859e-01, 5.48498199e-01],\n       [3.43269199e-01, 5.97680515e-01],\n       [1.39332408e-01, 2.18958531e-01],\n       [6.18975733e-01, 8.05245894e-01],\n       [8.07922709e-02, 9.98943340e-01],\n       [9.55101850e-01, 6.47523410e-01],\n       [2.00554734e-01, 9.10008733e-01],\n       [7.81357930e-01, 4.37685255e-01],\n       [9.16558658e-01, 4.74029237e-01],\n       [4.83128537e-01, 3.76551482e-01],\n       [3.03152429e-06, 1.69060448e-03],\n       [5.72496823e-07, 1.11068136e-03],\n       [9.32546880e-01, 4.91670746e-06],\n       [9.08178144e-01, 1.82888906e-06],\n       [5.01545173e-06, 3.51968518e-04],\n       [9.15506533e-01, 1.83827897e-05],\n       [3.71961396e-01, 7.38277569e-06],\n       [3.92742730e-01, 4.51778995e-06]])"
     },
     "execution_count": 24,
     "metadata": {},
     "output_type": "execute_result"
    }
   ],
   "source": [
    "info._surrogate.x"
   ],
   "metadata": {
    "collapsed": false,
    "ExecuteTime": {
     "end_time": "2023-11-26T21:18:58.652290Z",
     "start_time": "2023-11-26T21:18:58.607821Z"
    }
   },
   "id": "f7dfbeaf782ab9bb"
  },
  {
   "cell_type": "markdown",
   "source": [
    "---"
   ],
   "metadata": {
    "collapsed": false
   },
   "id": "14435a86640def7b"
  },
  {
   "cell_type": "code",
   "execution_count": 25,
   "outputs": [],
   "source": [
    "import scipy as sp"
   ],
   "metadata": {
    "collapsed": false,
    "ExecuteTime": {
     "end_time": "2023-11-26T21:18:58.652643Z",
     "start_time": "2023-11-26T21:18:58.611062Z"
    }
   },
   "id": "bed35bb33853c0cd"
  },
  {
   "cell_type": "code",
   "execution_count": 26,
   "outputs": [],
   "source": [
    "span = np.array([[1, 0, 0], [1, 1, 0], [2, 1, 0]])"
   ],
   "metadata": {
    "collapsed": false,
    "ExecuteTime": {
     "end_time": "2023-11-26T21:18:58.652695Z",
     "start_time": "2023-11-26T21:18:58.614082Z"
    }
   },
   "id": "641fbf15dadbcabf"
  },
  {
   "cell_type": "code",
   "execution_count": 27,
   "outputs": [
    {
     "data": {
      "text/plain": "array([[ 0.8816746 ,  0.47185793,  0.        ],\n       [-0.47185793,  0.8816746 ,  0.        ]])"
     },
     "execution_count": 27,
     "metadata": {},
     "output_type": "execute_result"
    }
   ],
   "source": [
    "sp.linalg.orth(span.T).T"
   ],
   "metadata": {
    "collapsed": false,
    "ExecuteTime": {
     "end_time": "2023-11-26T21:18:58.652837Z",
     "start_time": "2023-11-26T21:18:58.616794Z"
    }
   },
   "id": "b6ebf0b7f2977197"
  },
  {
   "cell_type": "code",
   "execution_count": 28,
   "outputs": [
    {
     "data": {
      "text/plain": "array([[-0.68211557,  0.73124438]])"
     },
     "execution_count": 28,
     "metadata": {},
     "output_type": "execute_result"
    }
   ],
   "source": [
    "sp.linalg.orth((info.edge_points - info.edge_points[0]).T).T"
   ],
   "metadata": {
    "collapsed": false,
    "ExecuteTime": {
     "end_time": "2023-11-26T21:18:58.652914Z",
     "start_time": "2023-11-26T21:18:58.620883Z"
    }
   },
   "id": "9f697ea23fe53da"
  },
  {
   "cell_type": "code",
   "execution_count": 29,
   "outputs": [
    {
     "data": {
      "text/plain": "array([[ 0.        ,  0.        ],\n       [ 0.91521753, -0.98113532]])"
     },
     "execution_count": 29,
     "metadata": {},
     "output_type": "execute_result"
    }
   ],
   "source": [
    "info.edge_points - info.edge_points[0]"
   ],
   "metadata": {
    "collapsed": false,
    "ExecuteTime": {
     "end_time": "2023-11-26T21:18:58.652988Z",
     "start_time": "2023-11-26T21:18:58.624309Z"
    }
   },
   "id": "79b2abc52b5f03df"
  },
  {
   "cell_type": "code",
   "execution_count": 30,
   "outputs": [],
   "source": [
    "basis = sp.linalg.orth((info.edge_points - info.edge_points[0]).T).T\n",
    "projected_point = np.sum(np.array([np.dot(info.maximal_pareto_point - info.edge_points[0], basis_vector) * basis_vector\n",
    "                                   for basis_vector in basis]), axis=0)\n",
    "min_edges = np.min(info.edge_points, axis=0) - info.edge_points[0]\n",
    "concave_degree = np.linalg.norm(info.maximal_pareto_point - info.edge_points[0] - min_edges)/np.linalg.norm(projected_point- min_edges) \n",
    "\n",
    "if concave_degree<0.5:\n",
    "    concave_degree_description = \"Strongly convex\"\n",
    "\n",
    "elif concave_degree<0.9:\n",
    "    concave_degree_description = \"Convex\"\n",
    "    \n",
    "elif concave_degree<1.1:\n",
    "    concave_degree_description = \"Linear\"\n",
    "    \n",
    "elif concave_degree<1.3:\n",
    "    concave_degree_description = \"Concave\"\n",
    "    \n",
    "else:\n",
    "    concave_degree_description = \"Strongly convex\""
   ],
   "metadata": {
    "collapsed": false,
    "ExecuteTime": {
     "end_time": "2023-11-26T21:18:58.653024Z",
     "start_time": "2023-11-26T21:18:58.629595Z"
    }
   },
   "id": "240af409b6594f26"
  },
  {
   "cell_type": "code",
   "execution_count": 31,
   "outputs": [
    {
     "data": {
      "text/plain": "0.7582328445058456"
     },
     "execution_count": 31,
     "metadata": {},
     "output_type": "execute_result"
    }
   ],
   "source": [
    "concave_degree"
   ],
   "metadata": {
    "collapsed": false,
    "ExecuteTime": {
     "end_time": "2023-11-26T21:18:58.653104Z",
     "start_time": "2023-11-26T21:18:58.632098Z"
    }
   },
   "id": "73481e91c47307b7"
  },
  {
   "cell_type": "code",
   "execution_count": 32,
   "outputs": [
    {
     "data": {
      "text/plain": "'Convex'"
     },
     "execution_count": 32,
     "metadata": {},
     "output_type": "execute_result"
    }
   ],
   "source": [
    "concave_degree_description"
   ],
   "metadata": {
    "collapsed": false,
    "ExecuteTime": {
     "end_time": "2023-11-26T21:18:58.653176Z",
     "start_time": "2023-11-26T21:18:58.634472Z"
    }
   },
   "id": "231ad248845714a5"
  },
  {
   "cell_type": "code",
   "execution_count": 33,
   "outputs": [
    {
     "data": {
      "text/plain": "<matplotlib.collections.PathCollection at 0x16e9a9460>"
     },
     "execution_count": 33,
     "metadata": {},
     "output_type": "execute_result"
    },
    {
     "data": {
      "text/plain": "<Figure size 640x480 with 1 Axes>",
      "image/png": "[encoded data removed]"
     },
     "metadata": {},
     "output_type": "display_data"
    }
   ],
   "source": [
    "import matplotlib.pyplot as plt\n",
    "\n",
    "plt.scatter(info.edge_points[:, 0], info.edge_points[:, 1])\n",
    "plt.scatter(info.maximal_pareto_point[0], info.maximal_pareto_point[1])\n"
   ],
   "metadata": {
    "collapsed": false,
    "ExecuteTime": {
     "end_time": "2023-11-26T21:18:58.715852Z",
     "start_time": "2023-11-26T21:18:58.648852Z"
    }
   },
   "id": "ded71c4e3a838a50"
  },
  {
   "cell_type": "code",
   "execution_count": 34,
   "outputs": [
    {
     "data": {
      "text/plain": "(-2.0, 2.0)"
     },
     "execution_count": 34,
     "metadata": {},
     "output_type": "execute_result"
    },
    {
     "data": {
      "text/plain": "<Figure size 640x480 with 1 Axes>",
      "image/png": "[encoded data removed]"
     },
     "metadata": {},
     "output_type": "display_data"
    }
   ],
   "source": [
    "plt.scatter(projected_point[0], projected_point[1])\n",
    "x = info.edge_points[0]\n",
    "plt.scatter(info.edge_points[:, 0] - x[0], info.edge_points[:, 1] - x[1])\n",
    "plt.scatter((info.maximal_pareto_point - info.edge_points[0])[0], (info.maximal_pareto_point - info.edge_points[0])[1])\n",
    "plt.scatter(basis[:, 0], basis[:, 1])\n",
    "plt.scatter(projected_point[0], projected_point[1])\n",
    "plt.scatter(min_edges[0], min_edges[1])\n",
    "plt.xlim([-2, 2])\n",
    "plt.ylim([-2, 2])"
   ],
   "metadata": {
    "collapsed": false,
    "ExecuteTime": {
     "end_time": "2023-11-26T21:18:58.826468Z",
     "start_time": "2023-11-26T21:18:58.730879Z"
    }
   },
   "id": "d5d917bbee40df28"
  },
  {
   "cell_type": "code",
   "execution_count": 34,
   "outputs": [],
   "source": [],
   "metadata": {
    "collapsed": false,
    "ExecuteTime": {
     "end_time": "2023-11-26T21:18:58.834402Z",
     "start_time": "2023-11-26T21:18:58.826403Z"
    }
   },
   "id": "a3b836a76985e26d"
  }
 ],
 "metadata": {
  "kernelspec": {
   "display_name": "Python 3",
   "language": "python",
   "name": "python3"
  },
  "language_info": {
   "codemirror_mode": {
    "name": "ipython",
    "version": 2
   },
   "file_extension": ".py",
   "mimetype": "text/x-python",
   "name": "python",
   "nbconvert_exporter": "python",
   "pygments_lexer": "ipython2",
   "version": "2.7.6"
  }
 },
 "nbformat": 4,
 "nbformat_minor": 5
}
