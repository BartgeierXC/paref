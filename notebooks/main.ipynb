{
 "cells": [
  {
   "cell_type": "markdown",
   "id": "558dcb01",
   "metadata": {},
   "source": [
    "## Notebook for pareto optimization using reduction function (n-> 1)"
   ]
  },
  {
   "cell_type": "markdown",
   "id": "26bd70a1",
   "metadata": {},
   "source": [
    "ToDo:\n",
    "_build pipeline for testing algorithms!! as in pipeline notion_\n",
    "\n",
    "CAUTION: minimum in one component is not nn a pareto point...!"
   ]
  },
  {
   "cell_type": "code",
   "execution_count": 1,
   "id": "1d822764",
   "metadata": {
    "ExecuteTime": {
     "end_time": "2022-07-06T14:20:02.934518Z",
     "start_time": "2022-07-06T14:20:02.031775Z"
    }
   },
   "outputs": [],
   "source": [
    "import numpy as np\n",
    "import random\n",
    "from tqdm import tqdm\n",
    "from pymoo.factory import get_problem\n",
    "from pymoo.visualization.scatter import Scatter\n",
    "from scipy.optimize import minimize\n",
    "from pymoo.factory import get_performance_indicator"
   ]
  },
  {
   "cell_type": "code",
   "execution_count": 2,
   "id": "28c60b1a",
   "metadata": {
    "ExecuteTime": {
     "end_time": "2022-07-06T14:20:02.938322Z",
     "start_time": "2022-07-06T14:20:02.936469Z"
    }
   },
   "outputs": [],
   "source": [
    "n_var = 10"
   ]
  },
  {
   "cell_type": "code",
   "execution_count": 3,
   "id": "3d45f396",
   "metadata": {
    "ExecuteTime": {
     "end_time": "2022-07-06T14:20:02.943146Z",
     "start_time": "2022-07-06T14:20:02.939412Z"
    }
   },
   "outputs": [],
   "source": [
    "problem = get_problem(\"dtlz2\", n_var=n_var, n_obj=2)\n",
    "\n",
    "# The pareto front of a scaled zdt1 problem\n",
    "pf = problem.pareto_front()"
   ]
  },
  {
   "cell_type": "code",
   "execution_count": 4,
   "id": "be7f7f01",
   "metadata": {
    "ExecuteTime": {
     "end_time": "2022-07-06T14:20:03.188798Z",
     "start_time": "2022-07-06T14:20:02.943907Z"
    }
   },
   "outputs": [
    {
     "data": {
      "text/plain": [
       "<pymoo.visualization.scatter.Scatter at 0x7fdf6207e970>"
      ]
     },
     "execution_count": 4,
     "metadata": {},
     "output_type": "execute_result"
    },
    {
     "data": {
      "image/png": "[encoded data removed]",
      "text/plain": [
       "<Figure size 576x432 with 1 Axes>"
      ]
     },
     "metadata": {
      "needs_background": "light"
     },
     "output_type": "display_data"
    }
   ],
   "source": [
    "# plot the result\n",
    "Scatter(legend=True).add(pf, label=\"Pareto-front\").show()"
   ]
  },
  {
   "cell_type": "code",
   "execution_count": 5,
   "id": "76bc46d6",
   "metadata": {
    "ExecuteTime": {
     "end_time": "2022-07-06T14:20:03.191955Z",
     "start_time": "2022-07-06T14:20:03.189830Z"
    }
   },
   "outputs": [],
   "source": [
    "def f(x):\n",
    "    evaluations.append(x)\n",
    "    return problem.evaluate(x)"
   ]
  },
  {
   "cell_type": "code",
   "execution_count": 6,
   "id": "9a353497",
   "metadata": {
    "ExecuteTime": {
     "end_time": "2022-07-06T14:20:03.194982Z",
     "start_time": "2022-07-06T14:20:03.193031Z"
    }
   },
   "outputs": [],
   "source": [
    "def g(x,theta,potence):\n",
    "    return np.sum((x*theta)**potence)"
   ]
  },
  {
   "cell_type": "code",
   "execution_count": 7,
   "id": "78002ec7",
   "metadata": {
    "ExecuteTime": {
     "end_time": "2022-07-06T14:20:03.198032Z",
     "start_time": "2022-07-06T14:20:03.196133Z"
    }
   },
   "outputs": [],
   "source": [
    "x0 = list([0 for i in range(n_var-1)])\n",
    "x0.append(0)"
   ]
  },
  {
   "cell_type": "code",
   "execution_count": 8,
   "id": "17dcd12a",
   "metadata": {
    "ExecuteTime": {
     "end_time": "2022-07-06T14:20:03.201076Z",
     "start_time": "2022-07-06T14:20:03.199226Z"
    }
   },
   "outputs": [],
   "source": [
    "#x0 = list([0.4+1/(i+1) for i in range(n_var)])"
   ]
  },
  {
   "cell_type": "markdown",
   "id": "464ca40d",
   "metadata": {},
   "source": [
    "---"
   ]
  },
  {
   "cell_type": "code",
   "execution_count": 9,
   "id": "eb43ed4b",
   "metadata": {
    "ExecuteTime": {
     "end_time": "2022-07-06T14:20:03.204130Z",
     "start_time": "2022-07-06T14:20:03.201952Z"
    }
   },
   "outputs": [],
   "source": [
    "evaluations = []\n",
    "eval_reducer = []\n",
    "eval_n = 0\n",
    "potence = 2\n",
    "theta = np.array([1, 1])\n",
    "bnds = tuple([(0, 1) for _ in range(n_var)])"
   ]
  },
  {
   "cell_type": "code",
   "execution_count": 10,
   "id": "c2ab8349",
   "metadata": {
    "ExecuteTime": {
     "end_time": "2022-07-06T14:20:03.213127Z",
     "start_time": "2022-07-06T14:20:03.205225Z"
    },
    "code_folding": [
     0
    ]
   },
   "outputs": [
    {
     "name": "stdout",
     "output_type": "stream",
     "text": [
      "Optimization terminated successfully    (Exit mode 0)\n",
      "            Current function value: 1.0\n",
      "            Iterations: 2\n",
      "            Function evaluations: 23\n",
      "            Gradient evaluations: 2\n"
     ]
    }
   ],
   "source": [
    "res = minimize(lambda x: g(f(x),theta,potence),\n",
    "               x0,\n",
    "               method='SLSQP',\n",
    "               bounds=bnds,\n",
    "               options={\n",
    "                   'disp': True,\n",
    "                   'maxiter': 10\n",
    "               })\n",
    "eval_n += res.nfev"
   ]
  },
  {
   "cell_type": "code",
   "execution_count": 11,
   "id": "67e51c87",
   "metadata": {
    "ExecuteTime": {
     "end_time": "2022-07-06T14:20:03.219976Z",
     "start_time": "2022-07-06T14:20:03.217334Z"
    }
   },
   "outputs": [],
   "source": [
    "number_starting_points = 3\n",
    "starting_points = [np.array([random.random() for _ in range(n_var)]) for _ in range(number_starting_points)]\n",
    "\n",
    "starting_points = [np.array([1 if i==j else 0 for i in range(n_var)]) for j in range(n_var)]\n"
   ]
  },
  {
   "cell_type": "code",
   "execution_count": 12,
   "id": "e6d2b811",
   "metadata": {
    "ExecuteTime": {
     "end_time": "2022-07-06T14:20:03.256831Z",
     "start_time": "2022-07-06T14:20:03.220904Z"
    }
   },
   "outputs": [
    {
     "name": "stdout",
     "output_type": "stream",
     "text": [
      "Optimization terminated successfully    (Exit mode 0)\n",
      "            Current function value: 1.0\n",
      "            Iterations: 2\n",
      "            Function evaluations: 23\n",
      "            Gradient evaluations: 2\n",
      "Optimization terminated successfully    (Exit mode 0)\n",
      "            Current function value: 1.0\n",
      "            Iterations: 2\n",
      "            Function evaluations: 23\n",
      "            Gradient evaluations: 2\n",
      "Optimization terminated successfully    (Exit mode 0)\n",
      "            Current function value: 1.0\n",
      "            Iterations: 2\n",
      "            Function evaluations: 23\n",
      "            Gradient evaluations: 2\n",
      "Optimization terminated successfully    (Exit mode 0)\n",
      "            Current function value: 1.0\n",
      "            Iterations: 2\n",
      "            Function evaluations: 23\n",
      "            Gradient evaluations: 2\n",
      "Optimization terminated successfully    (Exit mode 0)\n",
      "            Current function value: 1.0\n",
      "            Iterations: 2\n",
      "            Function evaluations: 23\n",
      "            Gradient evaluations: 2\n",
      "Optimization terminated successfully    (Exit mode 0)\n",
      "            Current function value: 1.0\n",
      "            Iterations: 2\n",
      "            Function evaluations: 23\n",
      "            Gradient evaluations: 2\n",
      "Optimization terminated successfully    (Exit mode 0)\n",
      "            Current function value: 1.0\n",
      "            Iterations: 2\n",
      "            Function evaluations: 23\n",
      "            Gradient evaluations: 2\n",
      "Optimization terminated successfully    (Exit mode 0)\n",
      "            Current function value: 1.0\n",
      "            Iterations: 2\n",
      "            Function evaluations: 23\n",
      "            Gradient evaluations: 2\n",
      "Optimization terminated successfully    (Exit mode 0)\n",
      "            Current function value: 1.0\n",
      "            Iterations: 2\n",
      "            Function evaluations: 23\n",
      "            Gradient evaluations: 2\n",
      "Optimization terminated successfully    (Exit mode 0)\n",
      "            Current function value: 1.0\n",
      "            Iterations: 2\n",
      "            Function evaluations: 23\n",
      "            Gradient evaluations: 2\n"
     ]
    }
   ],
   "source": [
    "# both entries greater than zero -> no local minimum\n",
    "for starting_point in starting_points:\n",
    "    res = minimize(lambda x: g(f(x),theta,potence),\n",
    "               starting_point,\n",
    "               method='SLSQP',\n",
    "               bounds=bnds,\n",
    "               options={\n",
    "                   'disp': True,\n",
    "                   'maxiter': 5\n",
    "               })\n",
    "    eval_n += res.nfev"
   ]
  },
  {
   "cell_type": "code",
   "execution_count": 13,
   "id": "64c4d01f",
   "metadata": {
    "ExecuteTime": {
     "end_time": "2022-07-06T14:20:03.280296Z",
     "start_time": "2022-07-06T14:20:03.257785Z"
    }
   },
   "outputs": [],
   "source": [
    "points = np.array([list(problem.evaluate(x).flatten()) for x in evaluations])"
   ]
  },
  {
   "cell_type": "code",
   "execution_count": 14,
   "id": "ca0a297b",
   "metadata": {
    "ExecuteTime": {
     "end_time": "2022-07-06T14:20:03.287839Z",
     "start_time": "2022-07-06T14:20:03.281120Z"
    }
   },
   "outputs": [
    {
     "data": {
      "text/plain": [
       "array([[3.25000000e+00, 0.00000000e+00],\n",
       "       [3.25000000e+00, 7.60717401e-08],\n",
       "       [3.24999999e+00, 0.00000000e+00],\n",
       "       [3.24999999e+00, 0.00000000e+00],\n",
       "       [3.24999999e+00, 0.00000000e+00],\n",
       "       [3.24999999e+00, 0.00000000e+00],\n",
       "       [3.24999999e+00, 0.00000000e+00],\n",
       "       [3.24999999e+00, 0.00000000e+00],\n",
       "       [3.24999999e+00, 0.00000000e+00],\n",
       "       [3.24999999e+00, 0.00000000e+00],\n",
       "       [3.24999999e+00, 0.00000000e+00],\n",
       "       [3.25000000e+00, 1.06474679e-13],\n",
       "       [1.00000000e+00, 1.63807199e-14],\n",
       "       [1.00000000e+00, 2.34067056e-08],\n",
       "       [1.00000000e+00, 1.63807199e-14],\n",
       "       [1.00000000e+00, 1.63807199e-14],\n",
       "       [1.00000000e+00, 1.63807199e-14],\n",
       "       [1.00000000e+00, 1.63807199e-14],\n",
       "       [1.00000000e+00, 1.63807199e-14],\n",
       "       [1.00000000e+00, 1.63807199e-14],\n",
       "       [1.00000000e+00, 1.63807199e-14],\n",
       "       [1.00000000e+00, 1.63807199e-14],\n",
       "       [1.00000000e+00, 1.63807199e-14],\n",
       "       [1.99005105e-16, 3.25000000e+00],\n",
       "       [7.60717403e-08, 3.25000000e+00],\n",
       "       [1.99005104e-16, 3.24999999e+00],\n",
       "       [1.99005104e-16, 3.24999999e+00],\n",
       "       [1.99005104e-16, 3.24999999e+00],\n",
       "       [1.99005104e-16, 3.24999999e+00],\n",
       "       [1.99005104e-16, 3.24999999e+00],\n",
       "       [1.99005104e-16, 3.24999999e+00],\n",
       "       [1.99005104e-16, 3.24999999e+00],\n",
       "       [1.99005104e-16, 3.24999999e+00],\n",
       "       [1.99005104e-16, 3.24999999e+00],\n",
       "       [1.99005105e-16, 3.25000000e+00],\n",
       "       [6.12323400e-17, 1.00000000e+00],\n",
       "       [2.34066893e-08, 1.00000000e+00],\n",
       "       [6.12323400e-17, 1.00000000e+00],\n",
       "       [6.12323400e-17, 1.00000000e+00],\n",
       "       [6.12323400e-17, 1.00000000e+00],\n",
       "       [6.12323400e-17, 1.00000000e+00],\n",
       "       [6.12323400e-17, 1.00000000e+00],\n",
       "       [6.12323400e-17, 1.00000000e+00],\n",
       "       [6.12323400e-17, 1.00000000e+00],\n",
       "       [6.12323400e-17, 1.00000000e+00],\n",
       "       [6.12323400e-17, 1.00000000e+00],\n",
       "       [3.25000000e+00, 0.00000000e+00],\n",
       "       [3.25000000e+00, 7.60717401e-08],\n",
       "       [3.24999999e+00, 0.00000000e+00],\n",
       "       [3.24999999e+00, 0.00000000e+00],\n",
       "       [3.24999999e+00, 0.00000000e+00],\n",
       "       [3.24999999e+00, 0.00000000e+00],\n",
       "       [3.24999999e+00, 0.00000000e+00],\n",
       "       [3.24999999e+00, 0.00000000e+00],\n",
       "       [3.24999999e+00, 0.00000000e+00],\n",
       "       [3.24999999e+00, 0.00000000e+00],\n",
       "       [3.24999999e+00, 0.00000000e+00],\n",
       "       [3.25000000e+00, 1.06474679e-13],\n",
       "       [1.00000000e+00, 1.63807199e-14],\n",
       "       [1.00000000e+00, 2.34067056e-08],\n",
       "       [1.00000000e+00, 1.63807199e-14],\n",
       "       [1.00000000e+00, 1.63807199e-14],\n",
       "       [1.00000000e+00, 1.63807199e-14],\n",
       "       [1.00000000e+00, 1.63807199e-14],\n",
       "       [1.00000000e+00, 1.63807199e-14],\n",
       "       [1.00000000e+00, 1.63807199e-14],\n",
       "       [1.00000000e+00, 1.63807199e-14],\n",
       "       [1.00000000e+00, 1.63807199e-14],\n",
       "       [1.00000000e+00, 1.63807199e-14],\n",
       "       [3.25000000e+00, 0.00000000e+00],\n",
       "       [3.25000000e+00, 7.60717401e-08],\n",
       "       [3.24999999e+00, 0.00000000e+00],\n",
       "       [3.24999999e+00, 0.00000000e+00],\n",
       "       [3.24999999e+00, 0.00000000e+00],\n",
       "       [3.24999999e+00, 0.00000000e+00],\n",
       "       [3.24999999e+00, 0.00000000e+00],\n",
       "       [3.24999999e+00, 0.00000000e+00],\n",
       "       [3.24999999e+00, 0.00000000e+00],\n",
       "       [3.24999999e+00, 0.00000000e+00],\n",
       "       [3.24999999e+00, 0.00000000e+00],\n",
       "       [3.25000000e+00, 1.16154196e-13],\n",
       "       [1.00000000e+00, 1.78698763e-14],\n",
       "       [1.00000000e+00, 2.34067071e-08],\n",
       "       [1.00000000e+00, 1.78698763e-14],\n",
       "       [1.00000000e+00, 1.78698763e-14],\n",
       "       [1.00000000e+00, 1.78698763e-14],\n",
       "       [1.00000000e+00, 1.78698763e-14],\n",
       "       [1.00000000e+00, 1.78698763e-14],\n",
       "       [1.00000000e+00, 1.78698763e-14],\n",
       "       [1.00000000e+00, 1.78698763e-14],\n",
       "       [1.00000000e+00, 1.78698763e-14],\n",
       "       [1.00000000e+00, 1.78698763e-14],\n",
       "       [3.25000000e+00, 0.00000000e+00],\n",
       "       [3.25000000e+00, 7.60717401e-08],\n",
       "       [3.24999999e+00, 0.00000000e+00],\n",
       "       [3.24999999e+00, 0.00000000e+00],\n",
       "       [3.24999999e+00, 0.00000000e+00],\n",
       "       [3.24999999e+00, 0.00000000e+00],\n",
       "       [3.24999999e+00, 0.00000000e+00],\n",
       "       [3.24999999e+00, 0.00000000e+00],\n",
       "       [3.24999999e+00, 0.00000000e+00],\n",
       "       [3.24999999e+00, 0.00000000e+00],\n",
       "       [3.24999999e+00, 0.00000000e+00],\n",
       "       [3.25000000e+00, 1.25833712e-13],\n",
       "       [1.00000000e+00, 1.93590326e-14],\n",
       "       [1.00000000e+00, 2.34067086e-08],\n",
       "       [1.00000000e+00, 1.93590326e-14],\n",
       "       [1.00000000e+00, 1.93590326e-14],\n",
       "       [1.00000000e+00, 1.93590326e-14],\n",
       "       [1.00000000e+00, 1.93590326e-14],\n",
       "       [1.00000000e+00, 1.93590326e-14],\n",
       "       [1.00000000e+00, 1.93590326e-14],\n",
       "       [1.00000000e+00, 1.93590326e-14],\n",
       "       [1.00000000e+00, 1.93590326e-14],\n",
       "       [1.00000000e+00, 1.93590326e-14],\n",
       "       [3.25000000e+00, 0.00000000e+00],\n",
       "       [3.25000000e+00, 7.60717401e-08],\n",
       "       [3.24999999e+00, 0.00000000e+00],\n",
       "       [3.24999999e+00, 0.00000000e+00],\n",
       "       [3.24999999e+00, 0.00000000e+00],\n",
       "       [3.24999999e+00, 0.00000000e+00],\n",
       "       [3.24999999e+00, 0.00000000e+00],\n",
       "       [3.24999999e+00, 0.00000000e+00],\n",
       "       [3.24999999e+00, 0.00000000e+00],\n",
       "       [3.24999999e+00, 0.00000000e+00],\n",
       "       [3.24999999e+00, 0.00000000e+00],\n",
       "       [3.25000000e+00, 1.06474679e-13],\n",
       "       [1.00000000e+00, 1.63807199e-14],\n",
       "       [1.00000000e+00, 2.34067056e-08],\n",
       "       [1.00000000e+00, 1.63807199e-14],\n",
       "       [1.00000000e+00, 1.63807199e-14],\n",
       "       [1.00000000e+00, 1.63807199e-14],\n",
       "       [1.00000000e+00, 1.63807199e-14],\n",
       "       [1.00000000e+00, 1.63807199e-14],\n",
       "       [1.00000000e+00, 1.63807199e-14],\n",
       "       [1.00000000e+00, 1.63807199e-14],\n",
       "       [1.00000000e+00, 1.63807199e-14],\n",
       "       [1.00000000e+00, 1.63807199e-14],\n",
       "       [3.25000000e+00, 0.00000000e+00],\n",
       "       [3.25000000e+00, 7.60717401e-08],\n",
       "       [3.24999999e+00, 0.00000000e+00],\n",
       "       [3.24999999e+00, 0.00000000e+00],\n",
       "       [3.24999999e+00, 0.00000000e+00],\n",
       "       [3.24999999e+00, 0.00000000e+00],\n",
       "       [3.24999999e+00, 0.00000000e+00],\n",
       "       [3.24999999e+00, 0.00000000e+00],\n",
       "       [3.24999999e+00, 0.00000000e+00],\n",
       "       [3.24999999e+00, 0.00000000e+00],\n",
       "       [3.24999999e+00, 0.00000000e+00],\n",
       "       [3.25000000e+00, 1.06474679e-13],\n",
       "       [1.00000000e+00, 1.63807199e-14],\n",
       "       [1.00000000e+00, 2.34067056e-08],\n",
       "       [1.00000000e+00, 1.63807199e-14],\n",
       "       [1.00000000e+00, 1.63807199e-14],\n",
       "       [1.00000000e+00, 1.63807199e-14],\n",
       "       [1.00000000e+00, 1.63807199e-14],\n",
       "       [1.00000000e+00, 1.63807199e-14],\n",
       "       [1.00000000e+00, 1.63807199e-14],\n",
       "       [1.00000000e+00, 1.63807199e-14],\n",
       "       [1.00000000e+00, 1.63807199e-14],\n",
       "       [1.00000000e+00, 1.63807199e-14],\n",
       "       [3.25000000e+00, 0.00000000e+00],\n",
       "       [3.25000000e+00, 7.60717401e-08],\n",
       "       [3.24999999e+00, 0.00000000e+00],\n",
       "       [3.24999999e+00, 0.00000000e+00],\n",
       "       [3.24999999e+00, 0.00000000e+00],\n",
       "       [3.24999999e+00, 0.00000000e+00],\n",
       "       [3.24999999e+00, 0.00000000e+00],\n",
       "       [3.24999999e+00, 0.00000000e+00],\n",
       "       [3.24999999e+00, 0.00000000e+00],\n",
       "       [3.24999999e+00, 0.00000000e+00],\n",
       "       [3.24999999e+00, 0.00000000e+00],\n",
       "       [3.25000000e+00, 1.25833712e-13],\n",
       "       [1.00000000e+00, 1.93590326e-14],\n",
       "       [1.00000000e+00, 2.34067086e-08],\n",
       "       [1.00000000e+00, 1.93590326e-14],\n",
       "       [1.00000000e+00, 1.93590326e-14],\n",
       "       [1.00000000e+00, 1.93590326e-14],\n",
       "       [1.00000000e+00, 1.93590326e-14],\n",
       "       [1.00000000e+00, 1.93590326e-14],\n",
       "       [1.00000000e+00, 1.93590326e-14],\n",
       "       [1.00000000e+00, 1.93590326e-14],\n",
       "       [1.00000000e+00, 1.93590326e-14],\n",
       "       [1.00000000e+00, 1.93590326e-14],\n",
       "       [3.25000000e+00, 0.00000000e+00],\n",
       "       [3.25000000e+00, 7.60717401e-08],\n",
       "       [3.24999999e+00, 0.00000000e+00],\n",
       "       [3.24999999e+00, 0.00000000e+00],\n",
       "       [3.24999999e+00, 0.00000000e+00],\n",
       "       [3.24999999e+00, 0.00000000e+00],\n",
       "       [3.24999999e+00, 0.00000000e+00],\n",
       "       [3.24999999e+00, 0.00000000e+00],\n",
       "       [3.24999999e+00, 0.00000000e+00],\n",
       "       [3.24999999e+00, 0.00000000e+00],\n",
       "       [3.24999999e+00, 0.00000000e+00],\n",
       "       [3.25000000e+00, 1.25833712e-13],\n",
       "       [1.00000000e+00, 1.93590326e-14],\n",
       "       [1.00000000e+00, 2.34067086e-08],\n",
       "       [1.00000000e+00, 1.93590326e-14],\n",
       "       [1.00000000e+00, 1.93590326e-14],\n",
       "       [1.00000000e+00, 1.93590326e-14],\n",
       "       [1.00000000e+00, 1.93590326e-14],\n",
       "       [1.00000000e+00, 1.93590326e-14],\n",
       "       [1.00000000e+00, 1.93590326e-14],\n",
       "       [1.00000000e+00, 1.93590326e-14],\n",
       "       [1.00000000e+00, 1.93590326e-14],\n",
       "       [1.00000000e+00, 1.93590326e-14],\n",
       "       [3.25000000e+00, 0.00000000e+00],\n",
       "       [3.25000000e+00, 7.60717401e-08],\n",
       "       [3.24999999e+00, 0.00000000e+00],\n",
       "       [3.24999999e+00, 0.00000000e+00],\n",
       "       [3.24999999e+00, 0.00000000e+00],\n",
       "       [3.24999999e+00, 0.00000000e+00],\n",
       "       [3.24999999e+00, 0.00000000e+00],\n",
       "       [3.24999999e+00, 0.00000000e+00],\n",
       "       [3.24999999e+00, 0.00000000e+00],\n",
       "       [3.24999999e+00, 0.00000000e+00],\n",
       "       [3.24999999e+00, 0.00000000e+00],\n",
       "       [3.25000000e+00, 1.06474679e-13],\n",
       "       [1.00000000e+00, 1.63807199e-14],\n",
       "       [1.00000000e+00, 2.34067056e-08],\n",
       "       [1.00000000e+00, 1.63807199e-14],\n",
       "       [1.00000000e+00, 1.63807199e-14],\n",
       "       [1.00000000e+00, 1.63807199e-14],\n",
       "       [1.00000000e+00, 1.63807199e-14],\n",
       "       [1.00000000e+00, 1.63807199e-14],\n",
       "       [1.00000000e+00, 1.63807199e-14],\n",
       "       [1.00000000e+00, 1.63807199e-14],\n",
       "       [1.00000000e+00, 1.63807199e-14],\n",
       "       [1.00000000e+00, 1.63807199e-14],\n",
       "       [3.25000000e+00, 0.00000000e+00],\n",
       "       [3.25000000e+00, 7.60717401e-08],\n",
       "       [3.24999999e+00, 0.00000000e+00],\n",
       "       [3.24999999e+00, 0.00000000e+00],\n",
       "       [3.24999999e+00, 0.00000000e+00],\n",
       "       [3.24999999e+00, 0.00000000e+00],\n",
       "       [3.24999999e+00, 0.00000000e+00],\n",
       "       [3.24999999e+00, 0.00000000e+00],\n",
       "       [3.24999999e+00, 0.00000000e+00],\n",
       "       [3.24999999e+00, 0.00000000e+00],\n",
       "       [3.24999999e+00, 0.00000000e+00],\n",
       "       [3.25000000e+00, 1.16154196e-13],\n",
       "       [1.00000000e+00, 1.78698763e-14],\n",
       "       [1.00000000e+00, 2.34067071e-08],\n",
       "       [1.00000000e+00, 1.78698763e-14],\n",
       "       [1.00000000e+00, 1.78698763e-14],\n",
       "       [1.00000000e+00, 1.78698763e-14],\n",
       "       [1.00000000e+00, 1.78698763e-14],\n",
       "       [1.00000000e+00, 1.78698763e-14],\n",
       "       [1.00000000e+00, 1.78698763e-14],\n",
       "       [1.00000000e+00, 1.78698763e-14],\n",
       "       [1.00000000e+00, 1.78698763e-14],\n",
       "       [1.00000000e+00, 1.78698763e-14]])"
      ]
     },
     "execution_count": 14,
     "metadata": {},
     "output_type": "execute_result"
    }
   ],
   "source": [
    "points"
   ]
  },
  {
   "cell_type": "code",
   "execution_count": 15,
   "id": "2650fee1",
   "metadata": {
    "ExecuteTime": {
     "end_time": "2022-07-06T14:20:03.417496Z",
     "start_time": "2022-07-06T14:20:03.288776Z"
    }
   },
   "outputs": [
    {
     "data": {
      "text/plain": [
       "<pymoo.visualization.scatter.Scatter at 0x7fdf621ff3a0>"
      ]
     },
     "execution_count": 15,
     "metadata": {},
     "output_type": "execute_result"
    },
    {
     "data": {
      "image/png": "[encoded data removed]",
      "text/plain": [
       "<Figure size 576x432 with 1 Axes>"
      ]
     },
     "metadata": {
      "needs_background": "light"
     },
     "output_type": "display_data"
    }
   ],
   "source": [
    "# The result found by an algorithm\n",
    "\n",
    "# plot the result\n",
    "Scatter(legend=True).add(pf, label=\"Pareto-front\").add(points,\n",
    "                                                       label=\"Result\").show()\n",
    "\n"
   ]
  },
  {
   "cell_type": "code",
   "execution_count": 16,
   "id": "26bdeaa2",
   "metadata": {
    "ExecuteTime": {
     "end_time": "2022-07-06T14:20:03.435848Z",
     "start_time": "2022-07-06T14:20:03.418582Z"
    }
   },
   "outputs": [
    {
     "name": "stdout",
     "output_type": "stream",
     "text": [
      "Dimension\n",
      "max hv 0.6501303514688243\n",
      "hv 0.43999999999999706\n",
      "relative hv 0.6767873534990566\n",
      "Number of evaluations : 253\n"
     ]
    }
   ],
   "source": [
    "# calculate hypervolume\n",
    "hv = get_performance_indicator(\"hv\", ref_point=np.array([1.5, 1.5]))\n",
    "print('Dimension')\n",
    "print(\"max hv\", hv.do(pf))\n",
    "print(\"hv\", hv.do(points))\n",
    "print(\"relative hv\", hv.do(points)/hv.do(pf))\n",
    "print('Number of evaluations :', eval_n)\n"
   ]
  },
  {
   "cell_type": "code",
   "execution_count": 17,
   "id": "17a4f4cb",
   "metadata": {
    "ExecuteTime": {
     "end_time": "2022-07-06T14:20:03.439780Z",
     "start_time": "2022-07-06T14:20:03.436831Z"
    },
    "scrolled": true
   },
   "outputs": [
    {
     "data": {
      "text/plain": [
       "1.0"
      ]
     },
     "execution_count": 17,
     "metadata": {},
     "output_type": "execute_result"
    }
   ],
   "source": [
    "g(pf[30],theta,potence)"
   ]
  },
  {
   "cell_type": "code",
   "execution_count": 18,
   "id": "4748378d",
   "metadata": {
    "ExecuteTime": {
     "end_time": "2022-07-06T14:20:03.446387Z",
     "start_time": "2022-07-06T14:20:03.441124Z"
    }
   },
   "outputs": [
    {
     "data": {
      "text/plain": [
       "1.0"
      ]
     },
     "execution_count": 18,
     "metadata": {},
     "output_type": "execute_result"
    }
   ],
   "source": [
    "min([g(point,theta,potence) for point in points])"
   ]
  }
 ],
 "metadata": {
  "kernelspec": {
   "display_name": "Python 3 (ipykernel)",
   "language": "python",
   "name": "python3"
  },
  "language_info": {
   "codemirror_mode": {
    "name": "ipython",
    "version": 3
   },
   "file_extension": ".py",
   "mimetype": "text/x-python",
   "name": "python",
   "nbconvert_exporter": "python",
   "pygments_lexer": "ipython3",
   "version": "3.9.7"
  },
  "toc": {
   "base_numbering": 1,
   "nav_menu": {},
   "number_sections": true,
   "sideBar": true,
   "skip_h1_title": false,
   "title_cell": "Table of Contents",
   "title_sidebar": "Contents",
   "toc_cell": false,
   "toc_position": {},
   "toc_section_display": true,
   "toc_window_display": false
  },
  "varInspector": {
   "cols": {
    "lenName": 16,
    "lenType": 16,
    "lenVar": 40
   },
   "kernels_config": {
    "python": {
     "delete_cmd_postfix": "",
     "delete_cmd_prefix": "del ",
     "library": "var_list.py",
     "varRefreshCmd": "print(var_dic_list())"
    },
    "r": {
     "delete_cmd_postfix": ") ",
     "delete_cmd_prefix": "rm(",
     "library": "var_list.r",
     "varRefreshCmd": "cat(var_dic_list()) "
    }
   },
   "types_to_exclude": [
    "module",
    "function",
    "builtin_function_or_method",
    "instance",
    "_Feature"
   ],
   "window_display": false
  }
 },
 "nbformat": 4,
 "nbformat_minor": 5
}
