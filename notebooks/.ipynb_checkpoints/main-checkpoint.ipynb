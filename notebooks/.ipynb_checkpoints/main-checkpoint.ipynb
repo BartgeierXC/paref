{
 "cells": [
  {
   "cell_type": "markdown",
   "id": "558dcb01",
   "metadata": {},
   "source": [
    "## Notebook for pareto optimization using reduction function (n-> 1)"
   ]
  },
  {
   "cell_type": "markdown",
   "id": "26bd70a1",
   "metadata": {},
   "source": [
    "ToDo:\n",
    "_build pipeline for testing algorithms!! as in pipeline notion_\n",
    "\n",
    "CAUTION: minimum in one component is not nn a pareto point...!"
   ]
  },
  {
   "cell_type": "code",
   "execution_count": 1,
   "id": "1d822764",
   "metadata": {},
   "outputs": [],
   "source": [
    "import numpy as np\n",
    "from pymoo.factory import get_problem\n",
    "from pymoo.visualization.scatter import Scatter\n",
    "from scipy.optimize import minimize\n",
    "from pymoo.factory import get_performance_indicator"
   ]
  },
  {
   "cell_type": "code",
   "execution_count": 132,
   "id": "28c60b1a",
   "metadata": {},
   "outputs": [],
   "source": [
    "n_var =10"
   ]
  },
  {
   "cell_type": "code",
   "execution_count": 133,
   "id": "3d45f396",
   "metadata": {},
   "outputs": [],
   "source": [
    "problem = get_problem(\"dtlz2_-1\", n_var=n_var, n_obj=2)\n",
    "\n",
    "# The pareto front of a scaled zdt1 problem\n",
    "pf = problem.pareto_front()"
   ]
  },
  {
   "cell_type": "markdown",
   "id": "4580fe05",
   "metadata": {},
   "source": [
    "---"
   ]
  },
  {
   "cell_type": "code",
   "execution_count": 134,
   "id": "b3ce8c8f",
   "metadata": {},
   "outputs": [],
   "source": [
    "evaluations = []"
   ]
  },
  {
   "cell_type": "code",
   "execution_count": 135,
   "id": "84c1cf06",
   "metadata": {},
   "outputs": [],
   "source": [
    "def fun(x,i,theta):\n",
    "    evaluations.append(x)\n",
    "    return np.sum(problem.evaluate(x)**i*theta)"
   ]
  },
  {
   "cell_type": "code",
   "execution_count": 136,
   "id": "7d2051fd",
   "metadata": {},
   "outputs": [],
   "source": [
    "i = 2"
   ]
  },
  {
   "cell_type": "code",
   "execution_count": 137,
   "id": "17dcd12a",
   "metadata": {},
   "outputs": [
    {
     "name": "stdout",
     "output_type": "stream",
     "text": [
      "1.1880999999999997\n"
     ]
    }
   ],
   "source": [
    "x0 = list([0.4 for i in range(n_var)])\n",
    "print(fun(x0,i,np.array([1,1])))"
   ]
  },
  {
   "cell_type": "code",
   "execution_count": null,
   "id": "d2fffe59",
   "metadata": {},
   "outputs": [],
   "source": [
    "eval_n = 0"
   ]
  },
  {
   "cell_type": "code",
   "execution_count": null,
   "id": "5073acae",
   "metadata": {},
   "outputs": [],
   "source": [
    "for j in range(4):\n",
    "    bnds = tuple([(0, 1) for _ in range(n_var)])\n",
    "    res = minimize(lambda x: fun(x, i, np.array(\n",
    "        [i, 4-])), x0, method='SLSQP', bounds=bnds, options={'disp': True, 'maxiter': 5})\n",
    "    eval_n += res.nfev"
   ]
  },
  {
   "cell_type": "code",
   "execution_count": 115,
   "id": "4c69d8e6",
   "metadata": {},
   "outputs": [
    {
     "name": "stdout",
     "output_type": "stream",
     "text": [
      "Iteration limit reached    (Exit mode 9)\n",
      "            Current function value: 0.07842815170351053\n",
      "            Iterations: 5\n",
      "            Function evaluations: 157\n",
      "            Gradient evaluations: 5\n"
     ]
    }
   ],
   "source": [
    "bnds = tuple([(0,1) for _ in range(n_var)])\n",
    "\n",
    "res = minimize(lambda x: fun(x,i,np.array([1,1])), x0,method='SLSQP', bounds=bnds,options={'disp': True, 'maxiter':5})\n",
    "\n",
    "eval_n += res.nfev"
   ]
  },
  {
   "cell_type": "code",
   "execution_count": null,
   "id": "73143258",
   "metadata": {},
   "outputs": [],
   "source": [
    "points = np.array([list(problem.evaluate(x).flatten()) for x in evaluations])"
   ]
  },
  {
   "cell_type": "code",
   "execution_count": null,
   "id": "2650fee1",
   "metadata": {},
   "outputs": [],
   "source": [
    "# The result found by an algorithm\n",
    "\n",
    "# plot the result\n",
    "Scatter(legend=True).add(pf, label=\"Pareto-front\").add(points,\n",
    "                                                       label=\"Result\").show()"
   ]
  },
  {
   "cell_type": "code",
   "execution_count": null,
   "id": "9b8bd44a",
   "metadata": {},
   "outputs": [],
   "source": [
    "# calculate hypervolume\n",
    "hv = get_performance_indicator(\"hv\", ref_point=np.array([4, 4]))\n",
    "print(\"max hv\", hv.do(pf))\n",
    "print(\"hv\", hv.do(points))\n",
    "print(\"relative hv\", hv.do(points)/hv.do(pf))\n",
    "print('Number of evaluations :', eval_n)\n"
   ]
  },
  {
   "cell_type": "markdown",
   "id": "65b5d9ad",
   "metadata": {},
   "source": [
    "---"
   ]
  },
  {
   "cell_type": "code",
   "execution_count": 10,
   "id": "eb4dcc2c",
   "metadata": {},
   "outputs": [
    {
     "ename": "AssertionError",
     "evalue": "Input dimension 3 are not equal to n_var 30!",
     "output_type": "error",
     "traceback": [
      "\u001b[0;31m---------------------------------------------------------------------------\u001b[0m",
      "\u001b[0;31mAssertionError\u001b[0m                            Traceback (most recent call last)",
      "\u001b[0;32m/var/folders/t2/1bp4z1rj32lgdzfw0s3ylk3r0000gn/T/ipykernel_66914/2419719844.py\u001b[0m in \u001b[0;36m<module>\u001b[0;34m\u001b[0m\n\u001b[1;32m     15\u001b[0m \u001b[0my1\u001b[0m \u001b[0;34m=\u001b[0m \u001b[0;34m[\u001b[0m\u001b[0mfun1\u001b[0m\u001b[0;34m(\u001b[0m\u001b[0mx\u001b[0m\u001b[0;34m)\u001b[0m \u001b[0;32mfor\u001b[0m \u001b[0mx\u001b[0m \u001b[0;32min\u001b[0m \u001b[0marr_x\u001b[0m\u001b[0;34m]\u001b[0m\u001b[0;34m\u001b[0m\u001b[0;34m\u001b[0m\u001b[0m\n\u001b[1;32m     16\u001b[0m \u001b[0my2\u001b[0m \u001b[0;34m=\u001b[0m \u001b[0;34m[\u001b[0m\u001b[0mfun2\u001b[0m\u001b[0;34m(\u001b[0m\u001b[0mx\u001b[0m\u001b[0;34m)\u001b[0m \u001b[0;32mfor\u001b[0m \u001b[0mx\u001b[0m \u001b[0;32min\u001b[0m \u001b[0marr_x\u001b[0m\u001b[0;34m]\u001b[0m\u001b[0;34m\u001b[0m\u001b[0;34m\u001b[0m\u001b[0m\n\u001b[0;32m---> 17\u001b[0;31m \u001b[0my\u001b[0m \u001b[0;34m=\u001b[0m \u001b[0;34m[\u001b[0m\u001b[0mfun\u001b[0m\u001b[0;34m(\u001b[0m\u001b[0mx\u001b[0m\u001b[0;34m)\u001b[0m \u001b[0;32mfor\u001b[0m \u001b[0mx\u001b[0m \u001b[0;32min\u001b[0m \u001b[0marr_x\u001b[0m\u001b[0;34m]\u001b[0m\u001b[0;34m\u001b[0m\u001b[0;34m\u001b[0m\u001b[0m\n\u001b[0m",
      "\u001b[0;32m/var/folders/t2/1bp4z1rj32lgdzfw0s3ylk3r0000gn/T/ipykernel_66914/2419719844.py\u001b[0m in \u001b[0;36m<listcomp>\u001b[0;34m(.0)\u001b[0m\n\u001b[1;32m     15\u001b[0m \u001b[0my1\u001b[0m \u001b[0;34m=\u001b[0m \u001b[0;34m[\u001b[0m\u001b[0mfun1\u001b[0m\u001b[0;34m(\u001b[0m\u001b[0mx\u001b[0m\u001b[0;34m)\u001b[0m \u001b[0;32mfor\u001b[0m \u001b[0mx\u001b[0m \u001b[0;32min\u001b[0m \u001b[0marr_x\u001b[0m\u001b[0;34m]\u001b[0m\u001b[0;34m\u001b[0m\u001b[0;34m\u001b[0m\u001b[0m\n\u001b[1;32m     16\u001b[0m \u001b[0my2\u001b[0m \u001b[0;34m=\u001b[0m \u001b[0;34m[\u001b[0m\u001b[0mfun2\u001b[0m\u001b[0;34m(\u001b[0m\u001b[0mx\u001b[0m\u001b[0;34m)\u001b[0m \u001b[0;32mfor\u001b[0m \u001b[0mx\u001b[0m \u001b[0;32min\u001b[0m \u001b[0marr_x\u001b[0m\u001b[0;34m]\u001b[0m\u001b[0;34m\u001b[0m\u001b[0;34m\u001b[0m\u001b[0m\n\u001b[0;32m---> 17\u001b[0;31m \u001b[0my\u001b[0m \u001b[0;34m=\u001b[0m \u001b[0;34m[\u001b[0m\u001b[0mfun\u001b[0m\u001b[0;34m(\u001b[0m\u001b[0mx\u001b[0m\u001b[0;34m)\u001b[0m \u001b[0;32mfor\u001b[0m \u001b[0mx\u001b[0m \u001b[0;32min\u001b[0m \u001b[0marr_x\u001b[0m\u001b[0;34m]\u001b[0m\u001b[0;34m\u001b[0m\u001b[0;34m\u001b[0m\u001b[0m\n\u001b[0m",
      "\u001b[0;32m/var/folders/t2/1bp4z1rj32lgdzfw0s3ylk3r0000gn/T/ipykernel_66914/3015964671.py\u001b[0m in \u001b[0;36m<lambda>\u001b[0;34m(x)\u001b[0m\n\u001b[1;32m      1\u001b[0m \u001b[0mi\u001b[0m \u001b[0;34m=\u001b[0m \u001b[0;36m1\u001b[0m\u001b[0;34m\u001b[0m\u001b[0;34m\u001b[0m\u001b[0m\n\u001b[0;32m----> 2\u001b[0;31m \u001b[0mfun\u001b[0m \u001b[0;34m=\u001b[0m \u001b[0;32mlambda\u001b[0m \u001b[0mx\u001b[0m\u001b[0;34m:\u001b[0m \u001b[0mnp\u001b[0m\u001b[0;34m.\u001b[0m\u001b[0msum\u001b[0m\u001b[0;34m(\u001b[0m\u001b[0mproblem\u001b[0m\u001b[0;34m.\u001b[0m\u001b[0mevaluate\u001b[0m\u001b[0;34m(\u001b[0m\u001b[0mx\u001b[0m\u001b[0;34m)\u001b[0m\u001b[0;34m**\u001b[0m\u001b[0mi\u001b[0m\u001b[0;34m)\u001b[0m\u001b[0;34m\u001b[0m\u001b[0;34m\u001b[0m\u001b[0m\n\u001b[0m",
      "\u001b[0;32m/opt/anaconda3/envs/Athena/lib/python3.9/site-packages/pymoo/core/problem.py\u001b[0m in \u001b[0;36mevaluate\u001b[0;34m(self, X, return_values_of, return_as_dictionary, *args, **kwargs)\u001b[0m\n\u001b[1;32m    110\u001b[0m         \u001b[0;31m# make sure the array is at least 2d. store if reshaping was necessary\u001b[0m\u001b[0;34m\u001b[0m\u001b[0;34m\u001b[0m\u001b[0m\n\u001b[1;32m    111\u001b[0m         \u001b[0mX\u001b[0m\u001b[0;34m,\u001b[0m \u001b[0monly_single_value\u001b[0m \u001b[0;34m=\u001b[0m \u001b[0mat_least_2d_array\u001b[0m\u001b[0;34m(\u001b[0m\u001b[0mX\u001b[0m\u001b[0;34m,\u001b[0m \u001b[0mextend_as\u001b[0m\u001b[0;34m=\u001b[0m\u001b[0;34m\"row\"\u001b[0m\u001b[0;34m,\u001b[0m \u001b[0mreturn_if_reshaped\u001b[0m\u001b[0;34m=\u001b[0m\u001b[0;32mTrue\u001b[0m\u001b[0;34m)\u001b[0m\u001b[0;34m\u001b[0m\u001b[0;34m\u001b[0m\u001b[0m\n\u001b[0;32m--> 112\u001b[0;31m         \u001b[0;32massert\u001b[0m \u001b[0mX\u001b[0m\u001b[0;34m.\u001b[0m\u001b[0mshape\u001b[0m\u001b[0;34m[\u001b[0m\u001b[0;36m1\u001b[0m\u001b[0;34m]\u001b[0m \u001b[0;34m==\u001b[0m \u001b[0mself\u001b[0m\u001b[0;34m.\u001b[0m\u001b[0mn_var\u001b[0m\u001b[0;34m,\u001b[0m \u001b[0;34mf'Input dimension {X.shape[1]} are not equal to n_var {self.n_var}!'\u001b[0m\u001b[0;34m\u001b[0m\u001b[0;34m\u001b[0m\u001b[0m\n\u001b[0m\u001b[1;32m    113\u001b[0m \u001b[0;34m\u001b[0m\u001b[0m\n\u001b[1;32m    114\u001b[0m         \u001b[0;31m# number of function evaluations to be done\u001b[0m\u001b[0;34m\u001b[0m\u001b[0;34m\u001b[0m\u001b[0m\n",
      "\u001b[0;31mAssertionError\u001b[0m: Input dimension 3 are not equal to n_var 30!"
     ]
    }
   ],
   "source": [
    "fun1 = lambda x: float(np.sin((sum(x)-1)))\n",
    "fun2 = lambda x: -x[2]**2+x[0]\n",
    "\n",
    "# on unit cube!\n",
    "x0 = [0.5,0.5,0.5]\n",
    "\n",
    "n = 100\n",
    "arr = [k*1/n for k in range(n+1)]\n",
    "arr_x = []\n",
    "for a in arr:\n",
    "    for b in arr:\n",
    "        for c in arr:\n",
    "            arr_x.append([a,b,c])\n",
    "\n",
    "y1 = [fun1(x) for x in arr_x]\n",
    "y2 = [fun2(x) for x in arr_x]\n",
    "y = [fun(x) for x in arr_x]"
   ]
  },
  {
   "cell_type": "code",
   "execution_count": null,
   "id": "33b1cd37",
   "metadata": {},
   "outputs": [],
   "source": [
    "bnds = ((0, 1), (0, 1), (0, 1))\n",
    "\n",
    "pp = []\n",
    "\n",
    "eval_x = 0\n",
    "\n",
    "for const in [(i+1) for i in range(1)]:\n",
    "    fun = lambda x: const*fun1(x)+float(np.exp(fun2(x)))\n",
    "    res = minimize(fun, x0, method='SLSQP', bounds=bnds,options={'disp': True})\n",
    "    eval_x += res.nfev\n",
    "    pp.append(res.x)"
   ]
  },
  {
   "cell_type": "code",
   "execution_count": null,
   "id": "641ac6aa",
   "metadata": {},
   "outputs": [],
   "source": [
    "print(eval_x)"
   ]
  },
  {
   "cell_type": "code",
   "execution_count": null,
   "id": "fefe633d",
   "metadata": {},
   "outputs": [],
   "source": [
    "pp1 = [fun1(x) for x in pp]\n",
    "pp2 = [fun2(x) for x in pp]"
   ]
  },
  {
   "cell_type": "code",
   "execution_count": 11,
   "id": "1ff6d09e",
   "metadata": {},
   "outputs": [
    {
     "ename": "NameError",
     "evalue": "name 'plt' is not defined",
     "output_type": "error",
     "traceback": [
      "\u001b[0;31m---------------------------------------------------------------------------\u001b[0m",
      "\u001b[0;31mNameError\u001b[0m                                 Traceback (most recent call last)",
      "\u001b[0;32m/var/folders/t2/1bp4z1rj32lgdzfw0s3ylk3r0000gn/T/ipykernel_66914/3433046349.py\u001b[0m in \u001b[0;36m<module>\u001b[0;34m\u001b[0m\n\u001b[0;32m----> 1\u001b[0;31m \u001b[0mplt\u001b[0m\u001b[0;34m.\u001b[0m\u001b[0mscatter\u001b[0m\u001b[0;34m(\u001b[0m\u001b[0my1\u001b[0m\u001b[0;34m,\u001b[0m\u001b[0my2\u001b[0m\u001b[0;34m)\u001b[0m\u001b[0;34m\u001b[0m\u001b[0;34m\u001b[0m\u001b[0m\n\u001b[0m\u001b[1;32m      2\u001b[0m \u001b[0mplt\u001b[0m\u001b[0;34m.\u001b[0m\u001b[0mscatter\u001b[0m\u001b[0;34m(\u001b[0m\u001b[0mpp1\u001b[0m\u001b[0;34m,\u001b[0m\u001b[0mpp2\u001b[0m\u001b[0;34m)\u001b[0m\u001b[0;34m\u001b[0m\u001b[0;34m\u001b[0m\u001b[0m\n",
      "\u001b[0;31mNameError\u001b[0m: name 'plt' is not defined"
     ]
    }
   ],
   "source": [
    "plt.scatter(y1,y2)\n",
    "plt.scatter(pp1,pp2)"
   ]
  },
  {
   "cell_type": "markdown",
   "id": "a2c6c746",
   "metadata": {},
   "source": [
    "---"
   ]
  },
  {
   "cell_type": "code",
   "execution_count": 12,
   "id": "025b847a",
   "metadata": {},
   "outputs": [
    {
     "ename": "NameError",
     "evalue": "name 'p' is not defined",
     "output_type": "error",
     "traceback": [
      "\u001b[0;31m---------------------------------------------------------------------------\u001b[0m",
      "\u001b[0;31mNameError\u001b[0m                                 Traceback (most recent call last)",
      "\u001b[0;32m/var/folders/t2/1bp4z1rj32lgdzfw0s3ylk3r0000gn/T/ipykernel_66914/4243398626.py\u001b[0m in \u001b[0;36m<module>\u001b[0;34m\u001b[0m\n\u001b[0;32m----> 1\u001b[0;31m \u001b[0mp\u001b[0m\u001b[0;34m.\u001b[0m\u001b[0mevaluate\u001b[0m\u001b[0;34m(\u001b[0m\u001b[0;34m[\u001b[0m\u001b[0;36m1\u001b[0m\u001b[0;34m,\u001b[0m\u001b[0;36m2\u001b[0m\u001b[0;34m]\u001b[0m\u001b[0;34m)\u001b[0m\u001b[0;34m\u001b[0m\u001b[0;34m\u001b[0m\u001b[0m\n\u001b[0m",
      "\u001b[0;31mNameError\u001b[0m: name 'p' is not defined"
     ]
    }
   ],
   "source": [
    "p.evaluate([1,2])"
   ]
  },
  {
   "cell_type": "code",
   "execution_count": null,
   "id": "4f8ee725",
   "metadata": {},
   "outputs": [],
   "source": []
  }
 ],
 "metadata": {
  "kernelspec": {
   "display_name": "Python 3 (ipykernel)",
   "language": "python",
   "name": "python3"
  },
  "language_info": {
   "codemirror_mode": {
    "name": "ipython",
    "version": 3
   },
   "file_extension": ".py",
   "mimetype": "text/x-python",
   "name": "python",
   "nbconvert_exporter": "python",
   "pygments_lexer": "ipython3",
   "version": "3.9.7"
  },
  "toc": {
   "base_numbering": 1,
   "nav_menu": {},
   "number_sections": true,
   "sideBar": true,
   "skip_h1_title": false,
   "title_cell": "Table of Contents",
   "title_sidebar": "Contents",
   "toc_cell": false,
   "toc_position": {},
   "toc_section_display": true,
   "toc_window_display": false
  },
  "varInspector": {
   "cols": {
    "lenName": 16,
    "lenType": 16,
    "lenVar": 40
   },
   "kernels_config": {
    "python": {
     "delete_cmd_postfix": "",
     "delete_cmd_prefix": "del ",
     "library": "var_list.py",
     "varRefreshCmd": "print(var_dic_list())"
    },
    "r": {
     "delete_cmd_postfix": ") ",
     "delete_cmd_prefix": "rm(",
     "library": "var_list.r",
     "varRefreshCmd": "cat(var_dic_list()) "
    }
   },
   "types_to_exclude": [
    "module",
    "function",
    "builtin_function_or_method",
    "instance",
    "_Feature"
   ],
   "window_display": false
  }
 },
 "nbformat": 4,
 "nbformat_minor": 5
}
