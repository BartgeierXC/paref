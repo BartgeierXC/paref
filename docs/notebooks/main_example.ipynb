{
 "cells": [
  {
   "cell_type": "markdown",
   "id": "2bed477f",
   "metadata": {},
   "source": [
    "# Overview"
   ]
  },
  {
   "cell_type": "markdown",
   "id": "3b1f5409",
   "metadata": {},
   "source": [
    "[This notebook](https://github.com/nicolaipalm/paref/blob/main/docs/notebooks/main_example.ipynb)\n",
    "demonstrates almost everything you can do with Paref, from applying an existing MOO algorithm to a bbf to constructing your own MOO algorithm tailored to the problem, using a practical example. "
   ]
  },
  {
   "cell_type": "markdown",
   "id": "ef516a2e",
   "metadata": {},
   "source": [
    "## Setup\n",
    "\n",
    "Let us imagine the following situation: We have a blackbox function (bbf) that we want to optimize multicriterially or, synonymously, multiobjectively (multi objective optimization, MOO). In other words, we are searching for the bbf Pareto front. The bbf can represent a machine for which we can set certain parameters (vector $x \\in D$, where D represents the domain of the problem, which we also call design space) and which then reacts measurably via certain target variables (vector $y \\in T$, where T represents the co-domain of the problem, which we also call target space). Or the bbf represents a simulation model, where we can also define specifications x for its design and obtain responses y through simulation.\n",
    " \n",
    "In our example here, we choose as bbf the mathematical test function Zitzler-Deb-Thiele N.1 (ZDT-1, reference: Deb, Kalyan; Thiele, L.; Laumanns, Marco; Zitzler, Eckart (2002). \"Scalable multi-objective optimization test problems\". Proceedings of the 2002 IEEE Congress on Evolutionary Computation. Vol. 1. pp. 825–830. doi:10.1109/CEC.2002.1007032). In the further course of our example, however, we assume that we do not know this function (which makes it a bbf). We can only \"test\" the bbf qua function calls in places we choose.  \n",
    "\n",
    "This approach offers the following advantage: ZDT-1 is not only defined analytically, but we also know (analytically) its Pareto front. Thus, we can immediately compare our results with the expected results and see how well our new approach works.\n",
    "\n",
    "## What Paref offers\n",
    "\n",
    "In many cases, the general MOO problem is formulated as \"find the Pareto front\" and not specified more clearly. Many MOO algorithms are accordingly designed to do just that: They identify Pareto-optimal points (i.e. points on the Paretofront), but they do not guarantee the user any further properties (e.g. to identify co-domain corner points of the Paretofront). The package paref now allows exactly that: besides the general property \"identified points are Pareto-optimal\", paref users can specify further properties of the Paretofront to be identified and construct MOO algorithms based on those defined properties. \n",
    "On a top level, this works as follows:\n",
    "- properties of Pareto points are reflected by Pareto reflections or, more generally, by sequences of such \n",
    "- Paref provides a [library](https://github.com/nicolaipalm/paref/tree/main/paref/moo_algorithms) of such (partly customizable) including a description of what properties are targeted\n",
    "- applying an existing MOO to a blackbox function and a sequence by using the ``apply_to_sequence`` method results in an algorithmic search for Pareto points satsfying those properties (with mathematical guarantees)\n",
    "\n",
    "\n",
    "## This example\n",
    "\n",
    "In this example we exploit all the functionality Paref provides, from implementing a blackbox function and apply an existing Paref MOO algorithm reflecting some properties all the way to construct our own problem specific MOO algorithm. \n",
    "Concrete we will do the following:\n",
    "\n",
    "1. Implement a blackbox function (ZDT-1)\n",
    "2. Apply one of Parefs' MOO algorithms to the blackbox function\n",
    "3. Apply an MOO algorithm to some Pareto reflection in order to target a certain property of Pareto points\n",
    "4. Implement a Pareto reflection targeting some property\n",
    "5. Implement a sequence of Pareto reflections targeting some properties\n",
    "6. Apply an MOO algorithm to a sequence\n",
    "7. Construct a new MOO algorithm from a sequence \n",
    "\n",
    "\n",
    "\n",
    " \n"
   ]
  },
  {
   "cell_type": "markdown",
   "id": "bba8082e",
   "metadata": {},
   "source": [
    "# Define and implement a blackbox function"
   ]
  },
  {
   "cell_type": "markdown",
   "id": "1a15b91a",
   "metadata": {},
   "source": [
    "We first need to define how many dimensions our domain (Design Space) and co-domain (Target Space) have. In our example (ZDT-1) we want to map 10 Design Space dimensions to 2 Target Space dimensions. \n",
    "Second, we must define how it can retrieve function values at selected points, i.e. we must declare calls to our bbf. Those four information, i.e.\n",
    "- assignment of vector of design variables to vector of target values (here given by ZDT-1) implemented in the ``__call__`` method\n",
    "- dimension of design space (here 10)\n",
    "- dimension of target space (here 2)\n",
    "- design space definition (here $[0,1]^{10}$)\n",
    "\n",
    "must be implemented in Parefs\\` ``BlackboxFunction`` interface.\n",
    "\n",
    "    CAUTION: by default, the evaluations of the blackbox function must be \n",
    "    stored in the ``self._evaluations``variable and must be of the form [x,y] \n",
    "    where x is a one dimensional numpy array representing the design vector \n",
    "    and y a one dimensional numpy array representing \n",
    "    the corresponding target vector!\n",
    "\n",
    "The corresponding code looks like this:"
   ]
  },
  {
   "cell_type": "code",
   "execution_count": null,
   "id": "347151ee",
   "metadata": {
    "ExecuteTime": {
     "end_time": "2023-06-28T16:39:09.071420Z",
     "start_time": "2023-06-28T16:39:08.999464Z"
    }
   },
   "outputs": [],
   "source": [
    "import numpy as np\n",
    "from paref.black_box_functions.design_space.bounds import Bounds\n",
    "from paref.interfaces.moo_algorithms.blackbox_function import BlackboxFunction\n",
    "\n",
    "\n",
    "class ZDT1(BlackboxFunction):\n",
    "    def __call__(self, x: np.ndarray) -> np.ndarray:\n",
    "        f1 = x[0]\n",
    "        g = 1 + 9 / 29 * np.sum(x[1:])\n",
    "        h = 1 - np.sqrt(f1 / g)\n",
    "        f2 = g * h\n",
    "        y = np.array([f1, f2])\n",
    "        self._evaluations.append([x, y])  # store evaluation\n",
    "        return y\n",
    "\n",
    "    @property\n",
    "    def dimension_design_space(self) -> int:\n",
    "        return 10\n",
    "\n",
    "    @property\n",
    "    def dimension_target_space(self) -> int:\n",
    "        return 2\n",
    "\n",
    "    @property\n",
    "    def design_space(self) -> Bounds:\n",
    "        return Bounds(upper_bounds=np.ones(self.dimension_design_space),\n",
    "                      lower_bounds=np.zeros(self.dimension_design_space))"
   ]
  },
  {
   "cell_type": "markdown",
   "id": "ee9fa97f",
   "metadata": {},
   "source": [
    "We then initialize an instance of this bbf."
   ]
  },
  {
   "cell_type": "code",
   "execution_count": null,
   "id": "3cdb18f4",
   "metadata": {
    "ExecuteTime": {
     "end_time": "2023-06-28T16:39:09.074004Z",
     "start_time": "2023-06-28T16:39:09.072429Z"
    }
   },
   "outputs": [],
   "source": [
    "bbf = ZDT1()"
   ]
  },
  {
   "cell_type": "markdown",
   "id": "ce1ccf68",
   "metadata": {},
   "source": [
    "The Pareto front of ZDT-1 looks as follows:"
   ]
  },
  {
   "cell_type": "code",
   "execution_count": null,
   "id": "07858e8f",
   "metadata": {
    "ExecuteTime": {
     "end_time": "2023-06-28T16:39:09.240955Z",
     "start_time": "2023-06-28T16:39:09.075741Z"
    },
    "code_folding": [
     5,
     13
    ]
   },
   "outputs": [],
   "source": [
    "# This code is exclusively to visualize our results\n",
    "\n",
    "import plotly.graph_objects as go\n",
    "\n",
    "pareto_points_of_bbf = [\n",
    "    i * np.eye(1, bbf.dimension_design_space, 0)[0]\n",
    "    for i in np.arange(0, 1, 0.01)\n",
    "]\n",
    "pareto_front_of_bbf = np.array([bbf(point) for point in pareto_points_of_bbf])\n",
    "bbf.clear_evaluations()\n",
    "\n",
    "data = [\n",
    "    go.Scatter(x=pareto_front_of_bbf.T[0],\n",
    "               y=pareto_front_of_bbf.T[1],\n",
    "               name='Real Pareto front',\n",
    "               line=dict(width=4)),\n",
    "]\n",
    "fig = go.Figure(data=data)\n",
    "fig.update_layout(title=\"Pareto front of ZDT-1\",\n",
    "                  width=600,\n",
    "                  height=600,\n",
    "                  plot_bgcolor='rgba(0,0,0,0)',\n",
    "                  legend=dict(\n",
    "                      x=0.2,\n",
    "                      y=0.9,\n",
    "                  ))\n",
    "fig.show()"
   ]
  },
  {
   "cell_type": "markdown",
   "id": "ae25a084",
   "metadata": {},
   "source": [
    "Note that in general we are not able to calculate the Pareto front. In this particular case, we can and use this knowledge in order to validate our results."
   ]
  },
  {
   "cell_type": "markdown",
   "id": "743bc37b",
   "metadata": {},
   "source": [
    "# Apply a MOO algorithm to blackbox function"
   ]
  },
  {
   "cell_type": "markdown",
   "id": "5f61bfd4",
   "metadata": {},
   "source": [
    "Applying an MOO algorithm in Paref is simply given by calling the algorithm to \n",
    "- a blackbox function (implemented in the ``BlackboxFunction`` interface) and\n",
    "- a [stopping critera](library stopping criteria) indicating when the algorithm should terminate.\n",
    "\n",
    "There are essentially two types of MOO algorithms implemented in Paref:\n",
    "- generic MOO algorithms (mainly [minimizers](https://github.com/nicolaipalm/paref/tree/main/paref/moo_algorithms/minimizer)) which are not tailored to some user defined properties but used when constructing a tailored MOO algorithm from a (sequence of) Pareto reflection(s)\n",
    "- tailored MOO algorithms which target certain properties of Pareto points"
   ]
  },
  {
   "cell_type": "markdown",
   "id": "480ba680",
   "metadata": {},
   "source": [
    "Let's make it concrete for our example:\n",
    "From our bbf ZDT-1 we want to identify Pareto-optimal solutions that represent the co-domain corners of the Pareto front. This property gives us an answer to the question \"in which target area are there Pareto-optimal trade-offs of our bbf at all?\". \n",
    "This is a quite typical questions that arise in the context of a bbf MOO. Let's get down to work and see how all these considerations transfer into code...."
   ]
  },
  {
   "cell_type": "markdown",
   "id": "ec3936f0",
   "metadata": {},
   "source": [
    "First, with initialize some stopping criteria.\n",
    "In our case, we choose the ``MaxIterationsReached`` which tells the algorithm to stop after a defined number ``max_iterations`` of iterations is reached."
   ]
  },
  {
   "cell_type": "code",
   "execution_count": null,
   "id": "8564669d",
   "metadata": {
    "ExecuteTime": {
     "end_time": "2023-06-28T16:39:09.248433Z",
     "start_time": "2023-06-28T16:39:09.244557Z"
    }
   },
   "outputs": [],
   "source": [
    "from paref.moo_algorithms.stopping_criteria.max_iterations_reached import MaxIterationsReached\n",
    "\n",
    "stopping_criteria = MaxIterationsReached(max_iterations=12)"
   ]
  },
  {
   "cell_type": "markdown",
   "id": "c0375efe",
   "metadata": {},
   "source": [
    "Next, we initialize the MOO algorithm targeting our desired properties of Pareto points: \n",
    "the ``FindEdgePoints`` algorithm."
   ]
  },
  {
   "cell_type": "code",
   "execution_count": null,
   "id": "b3d3a1eb",
   "metadata": {
    "ExecuteTime": {
     "end_time": "2023-06-28T16:39:12.039334Z",
     "start_time": "2023-06-28T16:39:09.250386Z"
    }
   },
   "outputs": [],
   "source": [
    "from paref.moo_algorithms.multi_dimensional.find_edge_points import FindEdgePoints\n",
    "\n",
    "moo_find_edge_points = FindEdgePoints(min_required_evaluations=40)"
   ]
  },
  {
   "cell_type": "markdown",
   "id": "8d0506f5",
   "metadata": {},
   "source": [
    "At last, we simply apply the algorithm to the blackbox function and the stopping criteria."
   ]
  },
  {
   "cell_type": "code",
   "execution_count": null,
   "id": "eff3fbd6",
   "metadata": {
    "ExecuteTime": {
     "end_time": "2023-06-28T16:41:43.664430Z",
     "start_time": "2023-06-28T16:39:12.040261Z"
    }
   },
   "outputs": [],
   "source": [
    "moo_find_edge_points(blackbox_function=bbf,\n",
    "                     stopping_criteria=stopping_criteria)"
   ]
  },
  {
   "cell_type": "code",
   "execution_count": null,
   "id": "d9ee0845",
   "metadata": {
    "ExecuteTime": {
     "end_time": "2023-06-28T16:41:43.691809Z",
     "start_time": "2023-06-28T16:41:43.665990Z"
    }
   },
   "outputs": [],
   "source": [
    "# This code is exclusively to visualize our results\n",
    "data = [\n",
    "    go.Scatter(x=pareto_front_of_bbf.T[0],\n",
    "               y=pareto_front_of_bbf.T[1],\n",
    "               name='Real Pareto front',\n",
    "               line=dict(width=4)),\n",
    "    go.Scatter(x=bbf.pareto_front.T[0],\n",
    "               y=bbf.pareto_front.T[1],\n",
    "               name='Determined Pareto points',\n",
    "               mode=\"markers\",\n",
    "               marker=dict(size=10)),\n",
    "]\n",
    "fig = go.Figure(data=data)\n",
    "fig.update_layout(title=\"Pareto front of ZDT-1\",\n",
    "                  width=600,\n",
    "                  height=600,\n",
    "                  plot_bgcolor='rgba(0,0,0,0)',\n",
    "                  legend=dict(\n",
    "                      x=0.2,\n",
    "                      y=0.9,\n",
    "                  ))\n",
    "fig.show()\n",
    "bbf.clear_evaluations()"
   ]
  },
  {
   "cell_type": "markdown",
   "id": "9be044d3",
   "metadata": {},
   "source": [
    "        NOTE: while the lower right corner is determined quite well, the MOO algorithm struggles \n",
    "        to determine the upper left corner. \n",
    "        This is because the underlying optimization algorithm does not approximate the bbf\n",
    "        close enough. This is quite common in MOO problems.\n",
    "        "
   ]
  },
  {
   "cell_type": "markdown",
   "id": "cafe421c",
   "metadata": {},
   "source": [
    "# Identify Pareto points with defined properties by using Pareto reflections"
   ]
  },
  {
   "cell_type": "markdown",
   "id": "38dd89df",
   "metadata": {},
   "source": [
    "If an additional property of Pareto points (reflected by some Pareto reflection) is targeted, we may simply call the ``apply_to_sequence`` method of any MOO algorithm to the blackbox function, stopping criteria and the corresponding Pareto reflection in order to include this property.\n",
    "\n",
    "Let's make it concrete for our example:\n",
    "From our bbf ZDT-1 we want to determine the edge Pareto points of the Pareto front but restricted to a certain area. Here, we choose the area as $(-\\infty,0.5]\\times (-\\infty,10]$, i.e. we demand the maximal $y_1$ resp. $y_2$ value of Pareto points to be $0.5$ resp. $10$.\n"
   ]
  },
  {
   "cell_type": "markdown",
   "id": "47177a2c",
   "metadata": {},
   "source": [
    "This is a quite typical constrained that arises in the context of a bbf MOO. \n",
    "\n",
    "Paref provides an implementation of a Pareto reflection corresponding to that property:\n",
    "the ``RestrictByPoint`` Pareto reflection. \n",
    "Lets initialize that reflection:"
   ]
  },
  {
   "cell_type": "code",
   "execution_count": null,
   "id": "0399799e",
   "metadata": {
    "ExecuteTime": {
     "end_time": "2023-06-28T16:41:43.699671Z",
     "start_time": "2023-06-28T16:41:43.696462Z"
    }
   },
   "outputs": [],
   "source": [
    "from paref.pareto_reflections.restrict_by_point import RestrictByPoint\n",
    "\n",
    "restrict_by_point = RestrictByPoint(restricting_point=np.array([0.5, 5]),\n",
    "                                    nadir=10 * np.ones(2))"
   ]
  },
  {
   "cell_type": "markdown",
   "id": "2cda4eb3",
   "metadata": {},
   "source": [
    "Now, we simply apply the ``FindEdgePoint`` algorithm to that Pareto reflection:"
   ]
  },
  {
   "cell_type": "code",
   "execution_count": null,
   "id": "fff48819",
   "metadata": {
    "ExecuteTime": {
     "end_time": "2023-06-28T16:43:14.073618Z",
     "start_time": "2023-06-28T16:41:43.700793Z"
    }
   },
   "outputs": [],
   "source": [
    "moo_find_edge_points.apply_to_sequence(\n",
    "    blackbox_function=bbf,\n",
    "    sequence_pareto_reflections=restrict_by_point,\n",
    "    stopping_criteria=stopping_criteria)"
   ]
  },
  {
   "cell_type": "code",
   "execution_count": null,
   "id": "8ed618bb",
   "metadata": {
    "ExecuteTime": {
     "end_time": "2023-06-28T16:43:14.091981Z",
     "start_time": "2023-06-28T16:43:14.075161Z"
    }
   },
   "outputs": [],
   "source": [
    "# This code is exclusively to visualize our results\n",
    "data = [\n",
    "    go.Scatter(x=pareto_front_of_bbf.T[0],\n",
    "               y=pareto_front_of_bbf.T[1],\n",
    "               name='Real Pareto front',\n",
    "               line=dict(width=4)),\n",
    "    go.Scatter(x=bbf.pareto_front.T[0],\n",
    "               y=bbf.pareto_front.T[1],\n",
    "               name='Determined Pareto points',\n",
    "               mode=\"markers\",\n",
    "               marker=dict(size=10)),\n",
    "]\n",
    "fig = go.Figure(data=data)\n",
    "fig.update_layout(title=\"Pareto front of ZDT-1\",\n",
    "                  width=600,\n",
    "                  height=600,\n",
    "                  plot_bgcolor='rgba(0,0,0,0)',\n",
    "                  legend=dict(\n",
    "                      x=0.2,\n",
    "                      y=0.9,\n",
    "                  ))\n",
    "fig.show()\n",
    "bbf.clear_evaluations()"
   ]
  },
  {
   "cell_type": "markdown",
   "id": "94d75bb8",
   "metadata": {},
   "source": [
    "# Customize Pareto reflections to user defined properties"
   ]
  },
  {
   "cell_type": "markdown",
   "id": "c2b0f0d0",
   "metadata": {},
   "source": [
    "If there does not exist an explicit Pareto reflection targeting our property, we may also use some of the (customazible) Pareto reflections provided by Paref and customize it to our targeted property. \n",
    "\n",
    "For example, we may be interested in the ''knee point'' between two points, i.e. the point which is closest to the lower left corner characterized by those two points (=minimum of components). \n",
    "This Pareto reflection can be specified be using the ``MinimizeWeightedNormToUtopia`` Pareto reflection.\n",
    "The implementation looks as follows:"
   ]
  },
  {
   "cell_type": "code",
   "execution_count": null,
   "id": "613c9b7b",
   "metadata": {
    "ExecuteTime": {
     "end_time": "2023-06-28T16:43:14.099489Z",
     "start_time": "2023-06-28T16:43:14.096237Z"
    }
   },
   "outputs": [],
   "source": [
    "from paref.pareto_reflections.minimize_weighted_norm_to_utopia import MinimizeWeightedNormToUtopia\n",
    "\n",
    "\n",
    "class FindKneePoint2D(MinimizeWeightedNormToUtopia):\n",
    "    def __init__(self, point_1: np.ndarray, point_2: np.ndarray):\n",
    "        min_components = np.min(np.array([point_1, point_2]), axis=1)\n",
    "        self.utopia_point = min_components\n",
    "        self.potency = 2\n",
    "        self.scalar = np.ones(2)\n",
    "\n",
    "    @property\n",
    "    def dimension_domain(self) -> int:\n",
    "        return 2\n",
    "\n",
    "\n",
    "find_knee_point = FindKneePoint2D(np.array([1, 0]), np.array([0, 1]))"
   ]
  },
  {
   "cell_type": "markdown",
   "id": "85fbf6dc",
   "metadata": {},
   "source": [
    "In order to apply some MOO to that that reflection (in order to target the ''knee point'' property), we choose some *generic* MOO algorithm (i.e. some MOO which is not tailored to some properties) which can handle the ``FindKneePoint2D`` reflection.\n",
    "\n",
    "    CAUTION: the codomain dimension of the Pareto reflection (``dimension_codomain`` property) must \n",
    "    be a supported target space dimensions of the MOO (``supported_target_space_dimensions``)\n",
    "    \n",
    "The codomain dimension of the above Pareto reflection is 1:"
   ]
  },
  {
   "cell_type": "code",
   "execution_count": null,
   "id": "45ed9a45",
   "metadata": {
    "ExecuteTime": {
     "end_time": "2023-06-28T16:43:14.105341Z",
     "start_time": "2023-06-28T16:43:14.100882Z"
    }
   },
   "outputs": [],
   "source": [
    "find_knee_point.dimension_codomain"
   ]
  },
  {
   "cell_type": "markdown",
   "id": "4ed3bdab",
   "metadata": {},
   "source": [
    "In this example, we choose the ``DifferentialEvolutionMinimizer``.\n",
    "This MOO exploits the fact that the underlying bbf is very cheap to sample\n",
    "(for a generic MOO algorithm which is tailored to expensive bbf see for example the ``GPRMinimizer``) and yields typically much better results but needs *much* more evaluations of the blackbox function."
   ]
  },
  {
   "cell_type": "code",
   "execution_count": null,
   "id": "9f1c1647",
   "metadata": {
    "ExecuteTime": {
     "end_time": "2023-06-28T16:43:14.110336Z",
     "start_time": "2023-06-28T16:43:14.106700Z"
    }
   },
   "outputs": [],
   "source": [
    "from paref.moo_algorithms.minimizer.differential_evolution_minimizer import DifferentialEvolutionMinimizer\n",
    "\n",
    "generic_moo = DifferentialEvolutionMinimizer()"
   ]
  },
  {
   "cell_type": "markdown",
   "id": "9fcbc636",
   "metadata": {},
   "source": [
    "Notice that the codomain dimension of the Pareto reflection is supported by the MOO:"
   ]
  },
  {
   "cell_type": "code",
   "execution_count": null,
   "id": "576ff1af",
   "metadata": {
    "ExecuteTime": {
     "end_time": "2023-06-28T16:43:14.114964Z",
     "start_time": "2023-06-28T16:43:14.111548Z"
    }
   },
   "outputs": [],
   "source": [
    "print(\n",
    "    f\"Codomain dimension is supported: {find_knee_point.dimension_codomain in generic_moo.supported_codomain_dimensions}\"\n",
    ")"
   ]
  },
  {
   "cell_type": "markdown",
   "id": "154287b1",
   "metadata": {},
   "source": [
    "Again, we simply apply the MOO to the Pareto reflection by calling its ``apply_to_sequence`` method:"
   ]
  },
  {
   "cell_type": "code",
   "execution_count": null,
   "id": "21867331",
   "metadata": {
    "ExecuteTime": {
     "end_time": "2023-06-28T16:43:21.403084Z",
     "start_time": "2023-06-28T16:43:14.116203Z"
    }
   },
   "outputs": [],
   "source": [
    "generic_moo.apply_to_sequence(blackbox_function=bbf,\n",
    "                              stopping_criteria=MaxIterationsReached(2),\n",
    "                              sequence_pareto_reflections=find_knee_point)"
   ]
  },
  {
   "cell_type": "code",
   "execution_count": null,
   "id": "ef58f25f",
   "metadata": {
    "ExecuteTime": {
     "end_time": "2023-06-28T16:43:21.412940Z",
     "start_time": "2023-06-28T16:43:21.404089Z"
    }
   },
   "outputs": [],
   "source": [
    "# This code is exclusively to visualize our results\n",
    "data = [\n",
    "    go.Scatter(x=pareto_front_of_bbf.T[0],\n",
    "               y=pareto_front_of_bbf.T[1],\n",
    "               name='Real Pareto front',\n",
    "               line=dict(width=4)),\n",
    "    go.Scatter(x=bbf.pareto_front.T[0],\n",
    "               y=bbf.pareto_front.T[1],\n",
    "               name='Determined Pareto points',\n",
    "               mode=\"markers\",\n",
    "               marker=dict(size=10)),\n",
    "]\n",
    "fig = go.Figure(data=data)\n",
    "fig.update_layout(title=\"Pareto front of ZDT-1\",\n",
    "                  width=600,\n",
    "                  height=600,\n",
    "                  plot_bgcolor='rgba(0,0,0,0)',\n",
    "                  legend=dict(\n",
    "                      x=0.2,\n",
    "                      y=0.9,\n",
    "                  ))\n",
    "fig.show()\n",
    "bbf.clear_evaluations()"
   ]
  },
  {
   "cell_type": "markdown",
   "id": "469a2628",
   "metadata": {},
   "source": [
    "# Implement a sequence of Pareto reflections"
   ]
  },
  {
   "cell_type": "markdown",
   "id": "c7ff9dfb",
   "metadata": {},
   "source": [
    "Not lets assume you want to determine the knee point of the whole Pareto front, i.e. the knee point between the edge points. \n",
    "This requires to first determine the edge points and then the knee point between them. \n",
    "This can be implemented in a sequence of Pareto reflections:\n",
    "\n",
    "A sequence of Pareto reflections a Pythonic way of representing multiple Pareto reflections. \n",
    "Accordingly, with sequences of Pareto reflections we can iteratively target several properties of Pareto points.\n",
    "In order to implement such a sequence you need to implement the ``SequenceParetoReflections``interface or implement one of the [generic sequences](https://github.com/nicolaipalm/paref/tree/release/paref/pareto_reflection_sequences/generic).\n",
    "\n",
    "In detail, this requires to implement the ``next(blackbox_function: BlackboxFunction)->Optional[ParetoReflection]`` method.\n",
    "This method decides which Pareto reflection is used in the next iteration and returns ``None`` if the sequence is finished.\n",
    "\n",
    "In our example, lets first target the Pareto point in the upper left corner than the lower right corner and then the knee point characterized by that corners and move to the next Pareto reflection if the search converged. \n",
    "The corresponding code looks as follows:"
   ]
  },
  {
   "cell_type": "code",
   "execution_count": null,
   "id": "d61420db",
   "metadata": {
    "ExecuteTime": {
     "end_time": "2023-06-28T16:43:21.429976Z",
     "start_time": "2023-06-28T16:43:21.425360Z"
    }
   },
   "outputs": [],
   "source": [
    "from paref.interfaces.sequences_pareto_reflections.sequence_pareto_reflections import SequenceParetoReflections\n",
    "from paref.pareto_reflections.find_edge_points import FindEdgePoints\n",
    "from paref.interfaces.pareto_reflections.pareto_reflection import ParetoReflection\n",
    "from typing import Optional\n",
    "\n",
    "\n",
    "class FindKneePointSequence2D(SequenceParetoReflections):\n",
    "    def __init__(self):\n",
    "        self.iter = 0  # count at which Pareto reflection we are\n",
    "\n",
    "    def next(\n",
    "            self,\n",
    "            blackbox_function: BlackboxFunction) -> Optional[ParetoReflection]:\n",
    "\n",
    "        # move to the next Pareto reflection if search converged\n",
    "        if len(blackbox_function.y) >= 2:\n",
    "            if np.linalg.norm(blackbox_function.y[-1] -\n",
    "                              blackbox_function.y[-2]) < 1e-1:\n",
    "                self.iter += 1  # move to next Pareto reflection if search converged\n",
    "\n",
    "        if self.iter == 0:\n",
    "            return FindEdgePoints(\n",
    "                dimension_domain=2,\n",
    "                dimension=0,\n",
    "            )  # search for upper left corner\n",
    "\n",
    "        if self.iter == 1:\n",
    "            return FindEdgePoints(\n",
    "                dimension_domain=2,\n",
    "                dimension=1,\n",
    "            )  # search for lower right corner\n",
    "\n",
    "        if self.iter == 2:\n",
    "            # determine found corner points of Pareto front\n",
    "            edge_points = np.argmin(blackbox_function.y, axis=1)\n",
    "            return FindKneePoint2D(point_1=blackbox_function.y[edge_points[0]],\n",
    "                                   point_2=blackbox_function.y[\n",
    "                                       edge_points[1]])  # search knee point\n",
    "\n",
    "        if self.iter == 3:\n",
    "            return None  # stop if knee point approximately found\n",
    "\n",
    "\n",
    "find_knee_point_sequence = FindKneePointSequence2D()"
   ]
  },
  {
   "cell_type": "markdown",
   "id": "31ad7ecf",
   "metadata": {},
   "source": [
    "# Apply a Moo algorithm to a sequence of Pareto reflections"
   ]
  },
  {
   "cell_type": "markdown",
   "id": "378a524e",
   "metadata": {},
   "source": [
    "Find [here]() a list of all (generic) sequences Paref provides.\n",
    "\n",
    "Applying an MOO to some sequence works in the same way as applying an MOO to a Pareto reflection (see above), i.e. by calling the ``apply_to_sequence`` method.\n",
    "\n",
    "Here is the code where we apply the generic MOO ``DifferentialEvolutionMinimizer`` to our ``FindKneePointsSequence2D`` sequence:"
   ]
  },
  {
   "cell_type": "code",
   "execution_count": null,
   "id": "c6f9231d",
   "metadata": {
    "ExecuteTime": {
     "end_time": "2023-06-28T16:43:48.082990Z",
     "start_time": "2023-06-28T16:43:21.431285Z"
    }
   },
   "outputs": [],
   "source": [
    "stopping_criteria = MaxIterationsReached(10)\n",
    "generic_moo.apply_to_sequence(\n",
    "    blackbox_function=bbf,\n",
    "    stopping_criteria=stopping_criteria,\n",
    "    sequence_pareto_reflections=find_knee_point_sequence)"
   ]
  },
  {
   "cell_type": "code",
   "execution_count": null,
   "id": "e0b8c558",
   "metadata": {
    "ExecuteTime": {
     "end_time": "2023-06-28T16:43:48.093266Z",
     "start_time": "2023-06-28T16:43:48.083906Z"
    }
   },
   "outputs": [],
   "source": [
    "# This code is exclusively to visualize our results\n",
    "data = [\n",
    "    go.Scatter(x=pareto_front_of_bbf.T[0],\n",
    "               y=pareto_front_of_bbf.T[1],\n",
    "               name='Real Pareto front',\n",
    "               line=dict(width=4)),\n",
    "    go.Scatter(x=bbf.pareto_front.T[0],\n",
    "               y=bbf.pareto_front.T[1],\n",
    "               name='Determined Pareto points',\n",
    "               mode=\"markers\",\n",
    "               marker=dict(size=10)),\n",
    "]\n",
    "fig = go.Figure(data=data)\n",
    "fig.update_layout(title=\"Pareto front of ZDT-1\",\n",
    "                  width=600,\n",
    "                  height=600,\n",
    "                  plot_bgcolor='rgba(0,0,0,0)',\n",
    "                  legend=dict(\n",
    "                      x=0.2,\n",
    "                      y=0.9,\n",
    "                  ))\n",
    "fig.show()\n",
    "bbf.clear_evaluations()"
   ]
  },
  {
   "cell_type": "markdown",
   "id": "5f6b0127",
   "metadata": {},
   "source": [
    "# Construct a new Paref MOO algorithm"
   ]
  },
  {
   "cell_type": "markdown",
   "id": "920957d4",
   "metadata": {},
   "source": [
    "In the last step, we turn our sequence into a problem tailored MOO algorithm (targeting the knee point property):\n",
    "This is simply done by implementing the ``sequence_of_pareto_reflections(self)`` property of some (generic) MOO algorithm.\n",
    "\n",
    "    NOTE: the sequence is only initialized *once* if the algorithm is called\"\n",
    "    \n",
    "In our example, we choose the generic MOO ``DifferentialEvolutionMinimizer``.\n",
    "The code looks as follows:"
   ]
  },
  {
   "cell_type": "code",
   "execution_count": null,
   "id": "839942ac",
   "metadata": {
    "ExecuteTime": {
     "end_time": "2023-06-28T16:43:48.096408Z",
     "start_time": "2023-06-28T16:43:48.094274Z"
    }
   },
   "outputs": [],
   "source": [
    "from typing import List\n",
    "\n",
    "\n",
    "class FindKneePoint2DMOO(DifferentialEvolutionMinimizer):\n",
    "    @property\n",
    "    def sequence_of_pareto_reflections(self) -> SequenceParetoReflections:\n",
    "        return FindKneePointSequence2D()\n",
    "\n",
    "    @property\n",
    "    def supported_codomain_dimensions(self) -> List[int]:\n",
    "        # the sequence if only defined if the blackbox function is has two dimensional target space\n",
    "        return [2]"
   ]
  },
  {
   "cell_type": "markdown",
   "id": "2683b7b6",
   "metadata": {},
   "source": [
    "Lets apply this algorithm once again to our ZDT-1 bbf:"
   ]
  },
  {
   "cell_type": "code",
   "execution_count": null,
   "id": "b4bbfc8b",
   "metadata": {
    "ExecuteTime": {
     "end_time": "2023-06-28T16:44:14.569992Z",
     "start_time": "2023-06-28T16:43:48.097692Z"
    }
   },
   "outputs": [],
   "source": [
    "find_knee_point_moo = FindKneePoint2DMOO()\n",
    "find_knee_point_moo(blackbox_function=bbf,\n",
    "                    stopping_criteria=MaxIterationsReached(10))"
   ]
  },
  {
   "cell_type": "code",
   "execution_count": null,
   "id": "5d96021f",
   "metadata": {
    "ExecuteTime": {
     "end_time": "2023-06-28T16:44:14.580223Z",
     "start_time": "2023-06-28T16:44:14.571013Z"
    }
   },
   "outputs": [],
   "source": [
    "# This code is exclusively to visualize our results\n",
    "data = [\n",
    "    go.Scatter(x=pareto_front_of_bbf.T[0],\n",
    "               y=pareto_front_of_bbf.T[1],\n",
    "               name='Real Pareto front',\n",
    "               line=dict(width=4)),\n",
    "    go.Scatter(x=bbf.pareto_front.T[0],\n",
    "               y=bbf.pareto_front.T[1],\n",
    "               name='Determined Pareto points',\n",
    "               mode=\"markers\",\n",
    "               marker=dict(size=10)),\n",
    "]\n",
    "fig = go.Figure(data=data)\n",
    "fig.update_layout(title=\"Pareto front of ZDT-1\",\n",
    "                  width=600,\n",
    "                  height=600,\n",
    "                  plot_bgcolor='rgba(0,0,0,0)',\n",
    "                  legend=dict(\n",
    "                      x=0.2,\n",
    "                      y=0.9,\n",
    "                  ))\n",
    "fig.show()\n",
    "bbf.clear_evaluations()"
   ]
  },
  {
   "cell_type": "markdown",
   "id": "1995da47",
   "metadata": {},
   "source": [
    "And that's it! You constructed your own problem tailored MOO algorithm."
   ]
  }
 ],
 "metadata": {
  "kernelspec": {
   "display_name": "Python 3",
   "language": "python",
   "name": "python3"
  },
  "language_info": {
   "codemirror_mode": {
    "name": "ipython",
    "version": 3
   },
   "file_extension": ".py",
   "mimetype": "text/x-python",
   "name": "python",
   "nbconvert_exporter": "python",
   "pygments_lexer": "ipython3",
   "version": "3.8.8"
  },
  "toc": {
   "base_numbering": 1,
   "nav_menu": {},
   "number_sections": true,
   "sideBar": true,
   "skip_h1_title": false,
   "title_cell": "Table of Contents",
   "title_sidebar": "Contents",
   "toc_cell": false,
   "toc_position": {
    "height": "calc(100% - 180px)",
    "left": "10px",
    "top": "150px",
    "width": "250.390625px"
   },
   "toc_section_display": true,
   "toc_window_display": true
  },
  "varInspector": {
   "cols": {
    "lenName": 16,
    "lenType": 16,
    "lenVar": 40
   },
   "kernels_config": {
    "python": {
     "delete_cmd_postfix": "",
     "delete_cmd_prefix": "del ",
     "library": "var_list.py",
     "varRefreshCmd": "print(var_dic_list())"
    },
    "r": {
     "delete_cmd_postfix": ") ",
     "delete_cmd_prefix": "rm(",
     "library": "var_list.r",
     "varRefreshCmd": "cat(var_dic_list()) "
    }
   },
   "types_to_exclude": [
    "module",
    "function",
    "builtin_function_or_method",
    "instance",
    "_Feature"
   ],
   "window_display": false
  }
 },
 "nbformat": 4,
 "nbformat_minor": 5
}
