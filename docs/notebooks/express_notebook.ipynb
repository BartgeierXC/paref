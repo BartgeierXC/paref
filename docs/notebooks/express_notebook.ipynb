{
 "cells": [
  {
   "cell_type": "code",
   "execution_count": 1,
   "id": "initial_id",
   "metadata": {
    "collapsed": true,
    "ExecuteTime": {
     "end_time": "2024-01-27T18:04:49.485143Z",
     "start_time": "2024-01-27T18:04:47.776252Z"
    }
   },
   "outputs": [],
   "source": [
    "import numpy as np\n",
    "from scipy.stats import qmc\n",
    "\n",
    "from paref.black_box_functions.design_space.bounds import Bounds\n",
    "from paref.express.info import Info\n",
    "from paref.interfaces.moo_algorithms.blackbox_function import BlackboxFunction\n",
    "\n",
    "\n",
    "class ZDT1(BlackboxFunction):\n",
    "    def __call__(self, x: np.ndarray) -> np.ndarray:\n",
    "        n = len(x)\n",
    "        f1 = x[0]\n",
    "        g = 1 + 9 / (n - 1) * np.sum(x[1:])\n",
    "        h = 1 - np.sqrt(f1 / g)\n",
    "        f2 = g * h\n",
    "        y = np.array([f1, f2])\n",
    "        return y\n",
    "\n",
    "    @property\n",
    "    def dimension_design_space(self) -> int:\n",
    "        return 2\n",
    "\n",
    "    @property\n",
    "    def dimension_target_space(self) -> int:\n",
    "        return 2\n",
    "\n",
    "    @property\n",
    "    def design_space(self) -> Bounds:\n",
    "        return Bounds(upper_bounds=np.ones(self.dimension_design_space),\n",
    "                      lower_bounds=np.zeros(self.dimension_design_space))"
   ]
  },
  {
   "cell_type": "code",
   "execution_count": 2,
   "outputs": [],
   "source": [
    "import numpy as np\n",
    "from paref.black_box_functions.design_space.bounds import Bounds\n",
    "from paref.interfaces.moo_algorithms.blackbox_function import BlackboxFunction\n",
    "\n",
    "\n",
    "class ZDT2(BlackboxFunction):\n",
    "    def __call__(self, x: np.ndarray) -> np.ndarray:\n",
    "        n = len(x)\n",
    "        f1 = x[0]\n",
    "        g = 1 + 9 / (n - 1) * np.sum(x[1:])\n",
    "        h = 1 - (f1 / g) ** 2\n",
    "        f2 = g * h\n",
    "        y = np.array([f1, f2])\n",
    "        self._evaluations.append([x, y])  # store evaluation\n",
    "        return y\n",
    "\n",
    "    @property\n",
    "    def dimension_design_space(self) -> int:\n",
    "        return 5\n",
    "\n",
    "    @property\n",
    "    def dimension_target_space(self) -> int:\n",
    "        return 2\n",
    "\n",
    "    @property\n",
    "    def design_space(self) -> Bounds:\n",
    "        return Bounds(upper_bounds=np.ones(self.dimension_design_space),\n",
    "                      lower_bounds=np.zeros(self.dimension_design_space))"
   ],
   "metadata": {
    "collapsed": false,
    "ExecuteTime": {
     "end_time": "2024-01-27T18:04:49.492306Z",
     "start_time": "2024-01-27T18:04:49.487727Z"
    }
   },
   "id": "b2d4243fe9875a96"
  },
  {
   "cell_type": "code",
   "execution_count": 3,
   "outputs": [],
   "source": [
    "bbf = ZDT1() #  2 concave, 1 convex"
   ],
   "metadata": {
    "collapsed": false,
    "ExecuteTime": {
     "end_time": "2024-01-27T18:04:49.493166Z",
     "start_time": "2024-01-27T18:04:49.489815Z"
    }
   },
   "id": "aaebafd33cdc4e3d"
  },
  {
   "cell_type": "code",
   "execution_count": 4,
   "outputs": [
    {
     "name": "stdout",
     "output_type": "stream",
     "text": [
      "TIPP. Use the Info class first to get a feeling for the problem and which algorithms to use:\n",
      "from paref.info import Info\n",
      "\n",
      "\n",
      "==========================================================\n",
      "==========================================================\n",
      "Training...\n"
     ]
    },
    {
     "name": "stderr",
     "output_type": "stream",
     "text": [
      "100%|██████████| 2000/2000 [00:02<00:00, 881.19it/s]\n",
      "100%|██████████| 2000/2000 [00:02<00:00, 908.44it/s]\n"
     ]
    },
    {
     "name": "stdout",
     "output_type": "stream",
     "text": [
      "\n",
      "Starting Optimization...\n",
      "\n",
      " Found Pareto point: \n",
      " x=[4.07935352e-07 1.46561531e-04 4.97799509e-03 4.27441597e-03\n",
      " 2.18092159e-03] \n",
      " prediction=[0.00108582 0.89350439] \n",
      " standard deviation=[0.0159012  0.20000776]\n",
      "\n",
      "Evaluating blackbox function...\n",
      "Value of blackbox function:  [4.07935352e-07 1.02540780e+00]\n",
      "Difference to estimation:  [ 0.00108542 -0.1319034 ] \n",
      "\n",
      "\n",
      "==========================================================\n",
      "==========================================================\n",
      "Training...\n"
     ]
    },
    {
     "name": "stderr",
     "output_type": "stream",
     "text": [
      "100%|██████████| 2000/2000 [00:02<00:00, 871.62it/s]\n",
      "100%|██████████| 2000/2000 [00:02<00:00, 897.14it/s]\n"
     ]
    },
    {
     "name": "stdout",
     "output_type": "stream",
     "text": [
      "\n",
      "Starting Optimization...\n",
      "\n",
      " Found Pareto point: \n",
      " x=[9.99837679e-01 1.85451105e-05 3.86325531e-05 5.46007601e-06\n",
      " 1.99340000e-05] \n",
      " prediction=[0.99852331 0.06639136] \n",
      " standard deviation=[0.01774153 0.19503769]\n",
      "\n",
      "Evaluating blackbox function...\n",
      "Value of blackbox function:  [9.99837679e-01 1.74069068e-04]\n",
      "Difference to estimation:  [-0.00131437  0.06621729] \n",
      "\n",
      "\n",
      "==========================================================\n",
      "==========================================================\n",
      "Training...\n"
     ]
    },
    {
     "name": "stderr",
     "output_type": "stream",
     "text": [
      "100%|██████████| 2000/2000 [00:02<00:00, 890.68it/s]\n",
      "100%|██████████| 2000/2000 [00:02<00:00, 881.30it/s]\n"
     ]
    },
    {
     "name": "stdout",
     "output_type": "stream",
     "text": [
      "\n",
      "Starting Optimization...\n",
      "\n",
      " Found Pareto point: \n",
      " x=[3.94265052e-07 1.89662305e-03 1.58439592e-02 3.31278226e-03\n",
      " 1.33852765e-03] \n",
      " prediction=[3.99396094e-04 1.03527678e+00] \n",
      " standard deviation=[0.0129246  0.08807148]\n",
      "\n",
      "Evaluating blackbox function...\n",
      "Value of blackbox function:  [3.94265052e-07 1.04973823e+00]\n",
      "Difference to estimation:  [ 0.000399   -0.01446145] \n",
      "\n",
      "\n",
      "==========================================================\n",
      "==========================================================\n",
      "Training...\n"
     ]
    },
    {
     "name": "stderr",
     "output_type": "stream",
     "text": [
      "100%|██████████| 2000/2000 [00:02<00:00, 881.05it/s]\n",
      "100%|██████████| 2000/2000 [00:02<00:00, 851.30it/s]\n"
     ]
    },
    {
     "name": "stdout",
     "output_type": "stream",
     "text": [
      "\n",
      "Starting Optimization...\n",
      "\n",
      " Found Pareto point: \n",
      " x=[9.99949924e-01 2.48426217e-05 5.55751665e-05 2.94922871e-05\n",
      " 8.45753924e-05] \n",
      " prediction=[ 0.99951896 -0.00111733] \n",
      " standard deviation=[0.0132163  0.08830529]\n"
     ]
    },
    {
     "name": "stderr",
     "output_type": "stream",
     "text": [
      "/Users/nicopalm/Documents/Projects/paref/paref/moo_algorithms/minimizer/gpr_minimizer.py:200: RuntimeWarning: Optimizer did not find a Pareto point! \n",
      "Try more minimizer iterations (max_iter_minimizer).\n",
      "  warn(\n"
     ]
    },
    {
     "name": "stdout",
     "output_type": "stream",
     "text": [
      "\n",
      "Evaluating blackbox function...\n",
      "Value of blackbox function:  [9.99949924e-01 2.43863823e-04]\n",
      "Difference to estimation:  [-0.00043096 -0.00136119] \n"
     ]
    },
    {
     "name": "stderr",
     "output_type": "stream",
     "text": [
      "/Users/nicopalm/Documents/Projects/paref/paref/moo_algorithms/minimizer/gpr_minimizer.py:217: RuntimeWarning: Found Point is not Pareto optimal! \n",
      "Try more training iterations (training_iter) and/or more evaluations of the bbf (min_required_evaluations).You can check the convergence of the training by self._gpr.plot_loss().\n",
      "  warn(\n"
     ]
    },
    {
     "name": "stdout",
     "output_type": "stream",
     "text": [
      "\n",
      "==========================================================\n",
      "==========================================================\n",
      "Training...\n"
     ]
    },
    {
     "name": "stderr",
     "output_type": "stream",
     "text": [
      "100%|██████████| 2000/2000 [00:02<00:00, 862.57it/s]\n",
      "100%|██████████| 2000/2000 [00:02<00:00, 904.00it/s]\n"
     ]
    },
    {
     "name": "stdout",
     "output_type": "stream",
     "text": [
      "\n",
      "Starting Optimization...\n",
      "\n",
      " Found Pareto point: \n",
      " x=[1.62523792e-06 4.39879849e-03 5.91509868e-03 1.39024158e-03\n",
      " 1.81073914e-03] \n",
      " prediction=[2.58230945e-04 1.02644128e+00] \n",
      " standard deviation=[0.01200807 0.0774896 ]\n",
      "\n",
      "Evaluating blackbox function...\n",
      "Value of blackbox function:  [1.62523792e-06 1.02911439e+00]\n",
      "Difference to estimation:  [ 0.00025661 -0.00267311] \n",
      "\n",
      "==========================================================\n",
      "==========================================================\n",
      "Training...\n"
     ]
    },
    {
     "name": "stderr",
     "output_type": "stream",
     "text": [
      "100%|██████████| 2000/2000 [00:02<00:00, 866.48it/s]\n",
      "100%|██████████| 2000/2000 [00:02<00:00, 930.95it/s]\n"
     ]
    },
    {
     "name": "stdout",
     "output_type": "stream",
     "text": [
      "\n",
      "Starting Optimization...\n",
      "\n",
      " Found Pareto point: \n",
      " x=[9.99741112e-01 4.31475616e-05 6.25663414e-06 5.03711607e-05\n",
      " 3.70418189e-05] \n",
      " prediction=[ 9.99512508e-01 -5.10589720e-04] \n",
      " standard deviation=[0.01075105 0.07732807]\n",
      "\n",
      "Evaluating blackbox function...\n",
      "Value of blackbox function:  [9.99741112e-01 2.83403299e-04]\n",
      "Difference to estimation:  [-0.0002286  -0.00079399] \n",
      "\n",
      "\n",
      "==========================================================\n",
      "==========================================================\n",
      "Training...\n"
     ]
    },
    {
     "name": "stderr",
     "output_type": "stream",
     "text": [
      "100%|██████████| 2000/2000 [00:02<00:00, 918.29it/s]\n",
      "100%|██████████| 2000/2000 [00:02<00:00, 929.42it/s]\n"
     ]
    },
    {
     "name": "stdout",
     "output_type": "stream",
     "text": [
      "\n",
      "Starting Optimization...\n",
      "\n",
      " Found Pareto point: \n",
      " x=[8.22446530e-06 5.02271834e-03 5.79358540e-03 7.18995505e-04\n",
      " 4.46393312e-03] \n",
      " prediction=[1.52616845e-04 1.03133073e+00] \n",
      " standard deviation=[0.0119283  0.07318043]\n",
      "\n",
      "Evaluating blackbox function...\n",
      "Value of blackbox function:  [8.22446530e-06 1.03307928e+00]\n",
      "Difference to estimation:  [ 0.00014439 -0.00174855] \n",
      "\n",
      "==========================================================\n",
      "==========================================================\n",
      "Training...\n"
     ]
    },
    {
     "name": "stderr",
     "output_type": "stream",
     "text": [
      "100%|██████████| 2000/2000 [00:02<00:00, 888.77it/s]\n",
      "100%|██████████| 2000/2000 [00:02<00:00, 899.22it/s]\n"
     ]
    },
    {
     "name": "stdout",
     "output_type": "stream",
     "text": [
      "\n",
      "Starting Optimization...\n",
      "\n",
      " Found Pareto point: \n",
      " x=[9.99909253e-01 4.15854316e-05 3.96483062e-05 2.94892426e-05\n",
      " 2.47657049e-05] \n",
      " prediction=[ 9.99745252e-01 -2.04195455e-04] \n",
      " standard deviation=[0.00932607 0.07328184]\n",
      "\n",
      "Evaluating blackbox function...\n",
      "Value of blackbox function:  [9.99909253e-01 1.97817807e-04]\n",
      "Difference to estimation:  [-0.000164   -0.00040201] \n",
      "\n",
      "==========================================================\n",
      "==========================================================\n",
      "Training...\n"
     ]
    },
    {
     "name": "stderr",
     "output_type": "stream",
     "text": [
      "100%|██████████| 2000/2000 [00:02<00:00, 852.51it/s]\n",
      "100%|██████████| 2000/2000 [00:02<00:00, 912.67it/s]\n"
     ]
    },
    {
     "name": "stdout",
     "output_type": "stream",
     "text": [
      "\n",
      "Starting Optimization...\n",
      "\n",
      " Found Pareto point: \n",
      " x=[4.30084140e-01 2.02046426e-06 3.52102267e-06 2.27274243e-08\n",
      " 1.37621695e-05] \n",
      " prediction=[0.43009236 0.41853085] \n",
      " standard deviation=[0.01048144 0.08754212]\n",
      "\n",
      "Evaluating blackbox function...\n",
      "Value of blackbox function:  [0.43008414 0.34422122]\n",
      "Difference to estimation:  [8.21993329e-06 7.43096292e-02] \n",
      "\n",
      "\n",
      "==========================================================\n",
      "==========================================================\n",
      "Training...\n"
     ]
    },
    {
     "name": "stderr",
     "output_type": "stream",
     "text": [
      "100%|██████████| 2000/2000 [00:02<00:00, 890.83it/s]\n",
      "100%|██████████| 2000/2000 [00:02<00:00, 862.56it/s]\n"
     ]
    },
    {
     "name": "stdout",
     "output_type": "stream",
     "text": [
      "\n",
      "Starting Optimization...\n",
      "\n",
      " Found Pareto point: \n",
      " x=[4.15511295e-01 3.94038686e-06 1.12148320e-05 4.07552132e-05\n",
      " 1.39934180e-05] \n",
      " prediction=[0.41551112 0.39968344] \n",
      " standard deviation=[0.00982392 0.07709074]\n",
      "\n",
      "Evaluating blackbox function...\n",
      "Value of blackbox function:  [0.41551129 0.35550494]\n",
      "Difference to estimation:  [-1.77569727e-07  4.41785046e-02] \n",
      "\n",
      "Access the best fitting Pareto points by calling the attributes 'minima_components' and 'max_point'.\n"
     ]
    }
   ],
   "source": [
    "pareto_points_of_bbf = [\n",
    "    i * np.eye(1, bbf.dimension_design_space, 0)[0]\n",
    "    for i in np.arange(0, 1, 0.01)\n",
    "]\n",
    "pareto_front_of_bbf = np.array([bbf(point) for point in pareto_points_of_bbf])\n",
    "bbf.clear_evaluations()"
   ],
   "metadata": {
    "collapsed": false,
    "ExecuteTime": {
     "end_time": "2024-01-27T18:06:34.632047Z",
     "start_time": "2024-01-27T18:04:49.493797Z"
    }
   },
   "id": "d47354717f522014"
  },
  {
   "cell_type": "code",
   "execution_count": 5,
   "outputs": [
    {
     "data": {
      "text/plain": "array([[0.41551129, 0.35550494]])"
     },
     "execution_count": 5,
     "metadata": {},
     "output_type": "execute_result"
    }
   ],
   "source": [
    "[bbf(x) for x in qmc.scale(qmc.LatinHypercube(d=bbf.dimension_design_space).random(n=20), bbf.design_space.lower_bounds,\n",
    "                           bbf.design_space.upper_bounds)]  # add samples according to latin hypercube scheme"
   ],
   "metadata": {
    "collapsed": false,
    "ExecuteTime": {
     "end_time": "2024-01-27T18:06:34.633647Z",
     "start_time": "2024-01-27T18:06:34.631004Z"
    }
   },
   "id": "40f1e27593a4963a"
  },
  {
   "cell_type": "code",
   "execution_count": 6,
   "outputs": [
    {
     "data": {
      "text/plain": "array([[4.07935352e-07, 1.02540780e+00],\n       [9.99837679e-01, 1.74069068e-04]])"
     },
     "execution_count": 6,
     "metadata": {},
     "output_type": "execute_result"
    }
   ],
   "source": [
    "# TODO: doesnt work very well for dimension 5...\n",
    "from paref.express.express_search import ExpressSearch\n",
    "\n",
    "moo = ExpressSearch(bbf,)\n",
    "\n",
    "moo.minimal_search(max_evaluations=8)"
   ],
   "metadata": {
    "collapsed": false,
    "ExecuteTime": {
     "end_time": "2024-01-27T18:06:34.636740Z",
     "start_time": "2024-01-27T18:06:34.634279Z"
    }
   },
   "id": "1632cc2ea41ea110"
  },
  {
   "cell_type": "code",
   "execution_count": 7,
   "outputs": [
    {
     "data": {
      "text/plain": "<matplotlib.collections.PathCollection at 0x174f37700>"
     },
     "execution_count": 7,
     "metadata": {},
     "output_type": "execute_result"
    },
    {
     "data": {
      "text/plain": "<Figure size 640x480 with 1 Axes>",
      "image/png": "[encoded data removed]"
     },
     "metadata": {},
     "output_type": "display_data"
    }
   ],
   "source": [
    "moo.max_point"
   ],
   "metadata": {
    "collapsed": false,
    "ExecuteTime": {
     "end_time": "2024-01-27T18:06:34.812197Z",
     "start_time": "2024-01-27T18:06:34.636517Z"
    }
   },
   "id": "99865d55413f4aaa"
  },
  {
   "cell_type": "code",
   "execution_count": 8,
   "outputs": [
    {
     "data": {
      "text/plain": "array([[4.07935352e-07, 1.02540780e+00],\n       [9.99837679e-01, 1.74069068e-04]])"
     },
     "execution_count": 8,
     "metadata": {},
     "output_type": "execute_result"
    }
   ],
   "source": [
    "moo.minima_components"
   ],
   "metadata": {
    "collapsed": false,
    "ExecuteTime": {
     "end_time": "2024-01-27T18:06:34.905355Z",
     "start_time": "2024-01-27T18:06:34.810925Z"
    }
   },
   "id": "bb0d0ff366669d60"
  },
  {
   "cell_type": "code",
   "execution_count": 9,
   "outputs": [
    {
     "data": {
      "text/plain": "30"
     },
     "execution_count": 9,
     "metadata": {},
     "output_type": "execute_result"
    }
   ],
   "source": [
    "moo = ExpressSearch(bbf)\n",
    "moo.minimal_search(max_evaluations=6)"
   ],
   "metadata": {
    "collapsed": false,
    "ExecuteTime": {
     "end_time": "2024-01-27T18:06:34.905650Z",
     "start_time": "2024-01-27T18:06:34.816832Z"
    }
   },
   "id": "802489bd68a438be"
  },
  {
   "cell_type": "code",
   "execution_count": null,
   "outputs": [],
   "source": [
    "from paref.moo_algorithms.stopping_criteria.max_iterations_reached import MaxIterationsReached\n",
    "from paref.pareto_reflections.find_maximal_pareto_point import FindMaximalParetoPoint\n",
    "from paref.moo_algorithms.minimizer.gpr_minimizer import GPRMinimizer\n",
    "\n",
    "m = GPRMinimizer()\n",
    "s = FindMaximalParetoPoint(blackbox_function=bbf)\n",
    "#m.apply_to_sequence(bbf,s,MaxIterationsReached(5))"
   ],
   "metadata": {
    "collapsed": false
   },
   "id": "e57a18ebf5fcded6"
  },
  {
   "cell_type": "code",
   "execution_count": 10,
   "outputs": [
    {
     "ename": "NameError",
     "evalue": "name 'hello' is not defined",
     "output_type": "error",
     "traceback": [
      "\u001B[0;31m---------------------------------------------------------------------------\u001B[0m",
      "\u001B[0;31mNameError\u001B[0m                                 Traceback (most recent call last)",
      "Cell \u001B[0;32mIn[10], line 1\u001B[0m\n\u001B[0;32m----> 1\u001B[0m \u001B[43mhello\u001B[49m\n",
      "\u001B[0;31mNameError\u001B[0m: name 'hello' is not defined"
     ]
    }
   ],
   "source": [
    "from paref.moo_algorithms.stopping_criteria.max_iterations_reached import MaxIterationsReached\n",
    "from paref.pareto_reflection_sequences.multi_dimensional.find_1_pareto_points_for_all_components_sequence import \\\n",
    "    Find1ParetoPointsForAllComponentsSequence\n",
    "from paref.moo_algorithms.minimizer.gpr_minimizer import GPRMinimizer\n",
    "\n",
    "m = GPRMinimizer()\n",
    "s = Find1ParetoPointsForAllComponentsSequence()\n",
    "#m.apply_to_sequence(bbf,s,MaxIterationsReached(5))"
   ],
   "metadata": {
    "collapsed": false,
    "ExecuteTime": {
     "end_time": "2024-01-27T18:06:35.159762Z",
     "start_time": "2024-01-27T18:06:34.824060Z"
    }
   },
   "id": "f6ba97a1bff966aa"
  },
  {
   "cell_type": "code",
   "execution_count": null,
   "outputs": [],
   "source": [
    "import matplotlib.pyplot as plt\n",
    "\n",
    "plt.plot(pareto_front_of_bbf.T[0], pareto_front_of_bbf.T[1])\n",
    "plt.scatter(bbf.y.T[0], bbf.y.T[1])\n",
    "\n"
   ],
   "metadata": {
    "collapsed": false,
    "ExecuteTime": {
     "end_time": "2024-01-27T18:06:35.165763Z",
     "start_time": "2024-01-27T18:06:35.162611Z"
    }
   },
   "id": "e30f4d76402273f1"
  },
  {
   "cell_type": "code",
   "execution_count": null,
   "outputs": [],
   "source": [
    "moo._one_points"
   ],
   "metadata": {
    "collapsed": false,
    "ExecuteTime": {
     "start_time": "2024-01-27T18:06:35.163862Z"
    }
   },
   "id": "84da8189e9e4e7ca"
  },
  {
   "cell_type": "code",
   "execution_count": null,
   "outputs": [],
   "source": [
    "len(bbf.y)"
   ],
   "metadata": {
    "collapsed": false,
    "ExecuteTime": {
     "start_time": "2024-01-27T18:06:35.165636Z"
    }
   },
   "id": "b0cc0ece9fda3739"
  },
  {
   "cell_type": "markdown",
   "source": [
    "Lets collect a bit of information about our Pareto front before making a decision which Pareto point to look for. \n",
    "This significantly reduces the time and computational effort to obtain good results. "
   ],
   "metadata": {
    "collapsed": false,
    "ExecuteTime": {
     "end_time": "2024-01-27T18:06:35.168672Z",
     "start_time": "2024-01-27T18:06:35.168563Z"
    }
   },
   "id": "94c4f13b8fa47cd8"
  },
  {
   "cell_type": "code",
   "execution_count": null,
   "outputs": [],
   "source": [
    "hello"
   ],
   "metadata": {
    "collapsed": false,
    "ExecuteTime": {
     "end_time": "2024-01-27T18:06:35.169683Z",
     "start_time": "2024-01-27T18:06:35.169463Z"
    }
   },
   "id": "1f1c78a401085c60"
  },
  {
   "cell_type": "code",
   "execution_count": null,
   "outputs": [],
   "source": [
    "\n",
    "# TODO: needs way too long (below)...\n",
    "# TODO: edge point and max point search do not work properly... edge points: needs sequence to be repeated...\n",
    "# TODO: maybe LH PLUS where GPR is most uncertain...\n",
    "info = Info(bbf,training_iter=1000)"
   ],
   "metadata": {
    "collapsed": false,
    "ExecuteTime": {
     "start_time": "2024-01-27T18:06:35.170478Z"
    }
   },
   "id": "cbcce5a0be28b887"
  },
  {
   "cell_type": "code",
   "execution_count": null,
   "outputs": [],
   "source": [
    "len(bbf.y)"
   ],
   "metadata": {
    "collapsed": false,
    "ExecuteTime": {
     "end_time": "2024-01-27T18:06:35.176232Z",
     "start_time": "2024-01-27T18:06:35.171198Z"
    }
   },
   "id": "550ea094d018052b"
  },
  {
   "cell_type": "code",
   "execution_count": null,
   "outputs": [],
   "source": [
    "info.edge_points"
   ],
   "metadata": {
    "collapsed": false,
    "ExecuteTime": {
     "start_time": "2024-01-27T18:06:35.172339Z"
    }
   },
   "id": "31a4695d600f86c8"
  },
  {
   "cell_type": "code",
   "execution_count": null,
   "outputs": [],
   "source": [
    "len(bbf.y)"
   ],
   "metadata": {
    "collapsed": false,
    "ExecuteTime": {
     "start_time": "2024-01-27T18:06:35.173931Z"
    }
   },
   "id": "54c05c0f32f86264"
  },
  {
   "cell_type": "code",
   "execution_count": null,
   "outputs": [],
   "source": [
    "info.maximal_pareto_point"
   ],
   "metadata": {
    "collapsed": false,
    "ExecuteTime": {
     "start_time": "2024-01-27T18:06:35.176132Z"
    }
   },
   "id": "3dac35563905fdcd"
  },
  {
   "cell_type": "code",
   "execution_count": null,
   "outputs": [],
   "source": [
    "len(bbf.y)"
   ],
   "metadata": {
    "collapsed": false,
    "ExecuteTime": {
     "end_time": "2024-01-27T18:06:35.179124Z",
     "start_time": "2024-01-27T18:06:35.177486Z"
    }
   },
   "id": "af86f0711945db24"
  },
  {
   "cell_type": "code",
   "execution_count": null,
   "outputs": [],
   "source": [
    "info.topology"
   ],
   "metadata": {
    "collapsed": false,
    "ExecuteTime": {
     "start_time": "2024-01-27T18:06:35.178267Z"
    }
   },
   "id": "3441bf322a35fa50"
  },
  {
   "cell_type": "code",
   "execution_count": null,
   "outputs": [],
   "source": [
    "info.minima"
   ],
   "metadata": {
    "collapsed": false,
    "ExecuteTime": {
     "end_time": "2024-01-27T18:06:35.179476Z",
     "start_time": "2024-01-27T18:06:35.179196Z"
    }
   },
   "id": "722262aa0f783e48"
  },
  {
   "cell_type": "code",
   "execution_count": null,
   "outputs": [],
   "source": [
    "info.model_fitness"
   ],
   "metadata": {
    "collapsed": false,
    "ExecuteTime": {
     "start_time": "2024-01-27T18:06:35.179819Z"
    }
   },
   "id": "78a1f93c6690029a"
  },
  {
   "cell_type": "code",
   "execution_count": null,
   "outputs": [],
   "source": [],
   "metadata": {
    "collapsed": false,
    "ExecuteTime": {
     "end_time": "2024-01-27T18:06:35.200614Z",
     "start_time": "2024-01-27T18:06:35.182768Z"
    }
   },
   "id": "ac3d359af322f799"
  },
  {
   "cell_type": "code",
   "execution_count": null,
   "outputs": [],
   "source": [
    "info.suggestion_pareto_points"
   ],
   "metadata": {
    "collapsed": false,
    "ExecuteTime": {
     "start_time": "2024-01-27T18:06:35.184199Z"
    }
   },
   "id": "a9b73c106af4e07a"
  },
  {
   "cell_type": "code",
   "execution_count": null,
   "outputs": [],
   "source": [
    "# express search THEN use update"
   ],
   "metadata": {
    "collapsed": false
   },
   "id": "2115b02dc8171832"
  },
  {
   "cell_type": "code",
   "execution_count": null,
   "outputs": [],
   "source": [],
   "metadata": {
    "collapsed": false,
    "ExecuteTime": {
     "start_time": "2024-01-27T18:06:35.185578Z"
    }
   },
   "id": "d8e1a50d9f66f4f8"
  },
  {
   "cell_type": "code",
   "execution_count": null,
   "outputs": [],
   "source": [],
   "metadata": {
    "collapsed": false,
    "ExecuteTime": {
     "start_time": "2024-01-27T18:06:35.186719Z"
    }
   },
   "id": "1f7ee2b97fa93a5f"
  },
  {
   "cell_type": "code",
   "execution_count": null,
   "outputs": [],
   "source": [
    "info._minima_pareto_points"
   ],
   "metadata": {
    "collapsed": false,
    "ExecuteTime": {
     "start_time": "2024-01-27T18:06:35.189604Z"
    }
   },
   "id": "d36cb276cd832d07"
  },
  {
   "cell_type": "code",
   "execution_count": null,
   "outputs": [],
   "source": [
    "info._surrogate.x"
   ],
   "metadata": {
    "collapsed": false,
    "ExecuteTime": {
     "start_time": "2024-01-27T18:06:35.191200Z"
    }
   },
   "id": "f7dfbeaf782ab9bb"
  },
  {
   "cell_type": "markdown",
   "source": [
    "---"
   ],
   "metadata": {
    "collapsed": false,
    "ExecuteTime": {
     "start_time": "2024-01-27T18:06:35.191864Z"
    }
   },
   "id": "14435a86640def7b"
  },
  {
   "cell_type": "code",
   "execution_count": null,
   "outputs": [],
   "source": [
    "import scipy as sp"
   ],
   "metadata": {
    "collapsed": false,
    "ExecuteTime": {
     "start_time": "2024-01-27T18:06:35.192348Z"
    }
   },
   "id": "bed35bb33853c0cd"
  },
  {
   "cell_type": "code",
   "execution_count": null,
   "outputs": [],
   "source": [
    "span = np.array([[1, 0, 0], [1, 1, 0], [2, 1, 0]])"
   ],
   "metadata": {
    "collapsed": false,
    "ExecuteTime": {
     "start_time": "2024-01-27T18:06:35.192879Z"
    }
   },
   "id": "641fbf15dadbcabf"
  },
  {
   "cell_type": "code",
   "execution_count": null,
   "outputs": [],
   "source": [
    "sp.linalg.orth(span.T).T"
   ],
   "metadata": {
    "collapsed": false,
    "ExecuteTime": {
     "start_time": "2024-01-27T18:06:35.193457Z"
    }
   },
   "id": "b6ebf0b7f2977197"
  },
  {
   "cell_type": "code",
   "execution_count": null,
   "outputs": [],
   "source": [
    "sp.linalg.orth((info.edge_points - info.edge_points[0]).T).T"
   ],
   "metadata": {
    "collapsed": false,
    "ExecuteTime": {
     "start_time": "2024-01-27T18:06:35.194446Z"
    }
   },
   "id": "9f697ea23fe53da"
  },
  {
   "cell_type": "code",
   "execution_count": null,
   "outputs": [],
   "source": [
    "info.edge_points - info.edge_points[0]"
   ],
   "metadata": {
    "collapsed": false,
    "ExecuteTime": {
     "start_time": "2024-01-27T18:06:35.195012Z"
    }
   },
   "id": "79b2abc52b5f03df"
  },
  {
   "cell_type": "code",
   "execution_count": null,
   "outputs": [],
   "source": [
    "basis = sp.linalg.orth((info.edge_points - info.edge_points[0]).T).T\n",
    "projected_point = np.sum(np.array([np.dot(info.maximal_pareto_point - info.edge_points[0], basis_vector) * basis_vector\n",
    "                                   for basis_vector in basis]), axis=0)\n",
    "min_edges = np.min(info.edge_points, axis=0) - info.edge_points[0]\n",
    "concave_degree = np.linalg.norm(info.maximal_pareto_point - info.edge_points[0] - min_edges)/np.linalg.norm(projected_point- min_edges) \n",
    "\n",
    "if concave_degree<0.5:\n",
    "    concave_degree_description = \"Strongly convex\"\n",
    "\n",
    "elif concave_degree<0.9:\n",
    "    concave_degree_description = \"Convex\"\n",
    "    \n",
    "elif concave_degree<1.1:\n",
    "    concave_degree_description = \"Linear\"\n",
    "    \n",
    "elif concave_degree<1.3:\n",
    "    concave_degree_description = \"Concave\"\n",
    "    \n",
    "else:\n",
    "    concave_degree_description = \"Strongly convex\""
   ],
   "metadata": {
    "collapsed": false,
    "ExecuteTime": {
     "start_time": "2024-01-27T18:06:35.195549Z"
    }
   },
   "id": "240af409b6594f26"
  },
  {
   "cell_type": "code",
   "execution_count": null,
   "outputs": [],
   "source": [
    "concave_degree"
   ],
   "metadata": {
    "collapsed": false
   },
   "id": "73481e91c47307b7"
  },
  {
   "cell_type": "code",
   "execution_count": null,
   "outputs": [],
   "source": [
    "concave_degree_description"
   ],
   "metadata": {
    "collapsed": false
   },
   "id": "231ad248845714a5"
  },
  {
   "cell_type": "code",
   "execution_count": null,
   "outputs": [],
   "source": [
    "import matplotlib.pyplot as plt\n",
    "\n",
    "plt.scatter(info.edge_points[:, 0], info.edge_points[:, 1])\n",
    "plt.scatter(info.maximal_pareto_point[0], info.maximal_pareto_point[1])\n"
   ],
   "metadata": {
    "collapsed": false
   },
   "id": "ded71c4e3a838a50"
  },
  {
   "cell_type": "code",
   "execution_count": null,
   "outputs": [],
   "source": [
    "plt.scatter(projected_point[0], projected_point[1])\n",
    "x = info.edge_points[0]\n",
    "plt.scatter(info.edge_points[:, 0] - x[0], info.edge_points[:, 1] - x[1])\n",
    "plt.scatter((info.maximal_pareto_point - info.edge_points[0])[0], (info.maximal_pareto_point - info.edge_points[0])[1])\n",
    "plt.scatter(basis[:, 0], basis[:, 1])\n",
    "plt.scatter(projected_point[0], projected_point[1])\n",
    "plt.scatter(min_edges[0], min_edges[1])\n",
    "plt.xlim([-2, 2])\n",
    "plt.ylim([-2, 2])"
   ],
   "metadata": {
    "collapsed": false
   },
   "id": "d5d917bbee40df28"
  },
  {
   "cell_type": "code",
   "execution_count": null,
   "outputs": [],
   "source": [],
   "metadata": {
    "collapsed": false
   },
   "id": "a3b836a76985e26d"
  }
 ],
 "metadata": {
  "kernelspec": {
   "display_name": "Python 3",
   "language": "python",
   "name": "python3"
  },
  "language_info": {
   "codemirror_mode": {
    "name": "ipython",
    "version": 2
   },
   "file_extension": ".py",
   "mimetype": "text/x-python",
   "name": "python",
   "nbconvert_exporter": "python",
   "pygments_lexer": "ipython2",
   "version": "2.7.6"
  }
 },
 "nbformat": 4,
 "nbformat_minor": 5
}
