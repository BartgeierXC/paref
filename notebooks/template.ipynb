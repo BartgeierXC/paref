{
 "cells": [
  {
   "cell_type": "markdown",
   "id": "3f38e2b8",
   "metadata": {},
   "source": [
    "## Import necessary modules"
   ]
  },
  {
   "cell_type": "code",
   "execution_count": 1,
   "id": "03f1dc6f",
   "metadata": {},
   "outputs": [],
   "source": [
    "import os \n",
    "import numpy as np\n",
    "import random"
   ]
  },
  {
   "cell_type": "code",
   "execution_count": 2,
   "id": "72fb9b7d",
   "metadata": {},
   "outputs": [],
   "source": [
    "os.chdir('/Users/nicopalm/Documents/Projects/helper')\n",
    "from plotting.notebook_plotting import *"
   ]
  },
  {
   "cell_type": "code",
   "execution_count": 3,
   "id": "fee8fa0c",
   "metadata": {},
   "outputs": [
    {
     "data": {
      "text/plain": [
       "'.'"
      ]
     },
     "execution_count": 3,
     "metadata": {},
     "output_type": "execute_result"
    }
   ],
   "source": [
    "os.chdir('/Users/nicopalm/Documents/Projects/Multi objective optimization')\n",
    "os.curdir"
   ]
  },
  {
   "cell_type": "code",
   "execution_count": 4,
   "id": "9a8d2ff6",
   "metadata": {},
   "outputs": [],
   "source": [
    "from interfaces.function import Function\n",
    "from weight_functions.scalar import Scalar\n",
    "from weight_functions.potence import Potence\n",
    "from minimizers.slsqp import SLSQP\n",
    "from minimizers.differential_evolution import DifferentialEvolution"
   ]
  },
  {
   "cell_type": "markdown",
   "id": "191bb0a8",
   "metadata": {},
   "source": [
    "## Define the underlying function"
   ]
  },
  {
   "cell_type": "code",
   "execution_count": 23,
   "id": "7969b94a",
   "metadata": {},
   "outputs": [],
   "source": [
    "input_dimensions = 8\n",
    "output_dimensions = 2\n",
    "starting_point = np.ones(input_dimensions)\n",
    "bounds = tuple([(0, 1) for _ in range(input_dimensions)])"
   ]
  },
  {
   "cell_type": "code",
   "execution_count": 24,
   "id": "7f6cf466",
   "metadata": {},
   "outputs": [],
   "source": [
    "# Define the function\n",
    "from pymoo.factory import get_problem\n",
    "from pymoo.visualization.scatter import Scatter\n",
    "from pymoo.factory import get_performance_indicator\n",
    "class ExampleFunction(Function):\n",
    "    def __call__(self, x):\n",
    "        self._evaluations.append([\n",
    "            x,\n",
    "            get_problem(\"dtlz2_-1\",\n",
    "                        n_var=input_dimensions,\n",
    "                        n_obj=output_dimensions).evaluate(x)\n",
    "        ])\n",
    "        return get_problem(\"dtlz2_-1\",\n",
    "                           n_var=input_dimensions,\n",
    "                           n_obj=output_dimensions).evaluate(x)"
   ]
  },
  {
   "cell_type": "code",
   "execution_count": 25,
   "id": "52cd7c18",
   "metadata": {},
   "outputs": [],
   "source": [
    "# Initialiaze the function\n",
    "function = ExampleFunction()"
   ]
  },
  {
   "cell_type": "markdown",
   "id": "2157e931",
   "metadata": {},
   "source": [
    "## Visualize the function"
   ]
  },
  {
   "cell_type": "code",
   "execution_count": 26,
   "id": "7eb1960e",
   "metadata": {},
   "outputs": [],
   "source": [
    "number_sample_points = 1000\n",
    "sample_points = [\n",
    "    np.array([random.uniform(bound[0], bound[1]) for bound in bounds])\n",
    "    for _ in range(number_sample_points)\n",
    "]\n",
    "evaluations_sample_points = [function(point) for point in sample_points]"
   ]
  },
  {
   "cell_type": "code",
   "execution_count": 27,
   "id": "018685a2",
   "metadata": {},
   "outputs": [],
   "source": [
    "# Plot function\n",
    "class ExampleDataFunction(DataFunction):\n",
    "    def __init__(self, index_fixed):\n",
    "        self.index_fixed = index_fixed\n",
    "        self.title = ''\n",
    "\n",
    "    def __call__(self, index):\n",
    "        x_dots = [\n",
    "            point[self.index_fixed] for point in evaluations_sample_points\n",
    "        ]\n",
    "        y_dots = [point[index] for point in evaluations_sample_points]\n",
    "        return [dot_scatter(x_dots=x_dots, y_dots=y_dots)]"
   ]
  },
  {
   "cell_type": "code",
   "execution_count": 28,
   "id": "605ed39d",
   "metadata": {},
   "outputs": [
    {
     "data": {
      "application/vnd.jupyter.widget-view+json": {
       "model_id": "495b8e1515934faf93910b367b2eb310",
       "version_major": 2,
       "version_minor": 0
      },
      "text/plain": [
       "interactive(children=(IntSlider(value=1, description='index', max=1), Output()), _dom_classes=('widget-interac…"
      ]
     },
     "metadata": {},
     "output_type": "display_data"
    }
   ],
   "source": [
    "interactive_plot(data_function=ExampleDataFunction(index_fixed=0),indices=(0,output_dimensions-1,1),start_index=1)"
   ]
  },
  {
   "cell_type": "markdown",
   "id": "041a21c7",
   "metadata": {},
   "source": [
    "### Visualization of the function/manual tuning of parameter"
   ]
  },
  {
   "cell_type": "code",
   "execution_count": 11,
   "id": "eec21969",
   "metadata": {},
   "outputs": [],
   "source": [
    "from ipywidgets import interact"
   ]
  },
  {
   "cell_type": "code",
   "execution_count": 12,
   "id": "11c1b2ad",
   "metadata": {},
   "outputs": [],
   "source": [
    "x0 = np.array([0.5,0.5])\n",
    "\n",
    "y0 = function(x0)"
   ]
  },
  {
   "cell_type": "code",
   "execution_count": null,
   "id": "a56551b3",
   "metadata": {},
   "outputs": [],
   "source": []
  },
  {
   "cell_type": "code",
   "execution_count": 13,
   "id": "54a4b6a9",
   "metadata": {
    "code_folding": []
   },
   "outputs": [
    {
     "data": {
      "application/vnd.jupyter.widget-view+json": {
       "model_id": "26dcd7c9b32b4afeb1fd97a531c3898a",
       "version_major": 2,
       "version_minor": 0
      },
      "text/plain": [
       "interactive(children=(FloatSlider(value=0.5, description='index_0', max=1.0, step=0.01), FloatSlider(value=0.5…"
      ]
     },
     "metadata": {},
     "output_type": "display_data"
    }
   ],
   "source": [
    "# TODO: add better point found when a dominated points is found \n",
    "# index = [index_parameter_1,index_parameter_2,...]\n",
    "data = [dot_scatter(x_dots=['index 0','index 1'],y_dots=y0),dot_scatter(x_dots=['index 0','index 1'],y_dots=y0)]\n",
    "fig0 = go.FigureWidget(data=data)\n",
    "# fixed scaling\n",
    "fig0.update_yaxes(autorange=False)\n",
    "\n",
    "#for i in range(input_dimensions):\n",
    "@interact(index_0=(0, 1, 0.01), index_1=(0, 1, 0.01))\n",
    "def update(index_0=x0[0], index_1=x0[1]):\n",
    "    with fig0.batch_update():\n",
    "        fig0.data[0].y = function(np.array([index_0,index_1]))\n",
    "    return fig0\n"
   ]
  },
  {
   "cell_type": "code",
   "execution_count": 14,
   "id": "2a38cc4b",
   "metadata": {},
   "outputs": [],
   "source": [
    "# slider for all design deimensions, "
   ]
  },
  {
   "cell_type": "markdown",
   "id": "66a11001",
   "metadata": {},
   "source": [
    "## Calculate the pareto optima"
   ]
  },
  {
   "cell_type": "code",
   "execution_count": 15,
   "id": "2cefa6aa",
   "metadata": {},
   "outputs": [],
   "source": [
    "# Define the weight function\n",
    "#weight_function = Scalar(theta=np.ones(output_dimensions))\n",
    "weight_function = Potence(potence=3 * np.ones(output_dimensions))"
   ]
  },
  {
   "cell_type": "code",
   "execution_count": 16,
   "id": "89a25a4c",
   "metadata": {},
   "outputs": [],
   "source": [
    "# Define the minimizer\n",
    "#minimizer = SLSQP(starting_point=starting_point)\n",
    "minimizer = DifferentialEvolution(starting_point=starting_point, bounds=bounds)"
   ]
  },
  {
   "cell_type": "code",
   "execution_count": 17,
   "id": "f09d61f5",
   "metadata": {},
   "outputs": [
    {
     "name": "stdout",
     "output_type": "stream",
     "text": [
      "differential_evolution step 1: f(x)= 0.709047\n",
      "differential_evolution step 2: f(x)= 0.709047\n",
      "differential_evolution step 3: f(x)= 0.707784\n",
      "differential_evolution step 4: f(x)= 0.707784\n",
      "differential_evolution step 5: f(x)= 0.707784\n",
      "differential_evolution step 6: f(x)= 0.707131\n",
      "differential_evolution step 7: f(x)= 0.707131\n",
      "differential_evolution step 8: f(x)= 0.707122\n",
      "differential_evolution step 9: f(x)= 0.70712\n",
      "differential_evolution step 10: f(x)= 0.70712\n",
      "differential_evolution step 11: f(x)= 0.70712\n",
      "differential_evolution step 12: f(x)= 0.707108\n",
      "differential_evolution step 13: f(x)= 0.707107\n",
      "differential_evolution step 14: f(x)= 0.707107\n",
      "differential_evolution step 15: f(x)= 0.707107\n"
     ]
    },
    {
     "data": {
      "text/plain": [
       "array([0.5000005 , 0.50000033])"
      ]
     },
     "execution_count": 17,
     "metadata": {},
     "output_type": "execute_result"
    }
   ],
   "source": [
    "function._evaluations = [\n",
    "]  # reset the evaluations (used to approximate the image of the function)\n",
    "minimizer(lambda x: weight_function(function(x)))"
   ]
  },
  {
   "cell_type": "markdown",
   "id": "a951fd9d",
   "metadata": {},
   "source": [
    "## Plot evaluations of sampled points"
   ]
  },
  {
   "cell_type": "code",
   "execution_count": 18,
   "id": "c07d4d78",
   "metadata": {
    "code_folding": []
   },
   "outputs": [],
   "source": [
    "# Plot function\n",
    "class ExampleDataFunction(DataFunction):\n",
    "    def __init__(self, index_fixed):\n",
    "        self.index_fixed = index_fixed\n",
    "        self.title = ''\n",
    "\n",
    "    def __call__(self, index):\n",
    "        x_dots_eval = [\n",
    "            point[1][self.index_fixed] for point in function.evaluations\n",
    "        ]\n",
    "        y_dots_eval = [point[1][index] for point in function.evaluations]\n",
    "        return [\n",
    "            dot_scatter(x_dots=x_dots_eval, y_dots=y_dots_eval),\n",
    "            dot_scatter(\n",
    "                x_dots=[function(minimizer.result.x)[self.index_fixed]],\n",
    "                y_dots=[function(minimizer.result.x)[index]],\n",
    "                name_dots='Pareto optimum found')\n",
    "        ]"
   ]
  },
  {
   "cell_type": "code",
   "execution_count": 19,
   "id": "fd450977",
   "metadata": {},
   "outputs": [
    {
     "data": {
      "application/vnd.jupyter.widget-view+json": {
       "model_id": "bdc8d219626845b6aab53935e7f353a7",
       "version_major": 2,
       "version_minor": 0
      },
      "text/plain": [
       "interactive(children=(IntSlider(value=1, description='index', max=1), Output()), _dom_classes=('widget-interac…"
      ]
     },
     "metadata": {},
     "output_type": "display_data"
    }
   ],
   "source": [
    "interactive_plot(data_function=ExampleDataFunction(index_fixed=0),\n",
    "                 indices=(0, output_dimensions-1, 1),\n",
    "                 start_index=1)"
   ]
  },
  {
   "cell_type": "markdown",
   "id": "49383222",
   "metadata": {},
   "source": [
    "## Look at the results"
   ]
  },
  {
   "cell_type": "code",
   "execution_count": 20,
   "id": "483763f8",
   "metadata": {},
   "outputs": [],
   "source": [
    "#function.evaluations"
   ]
  },
  {
   "cell_type": "code",
   "execution_count": 21,
   "id": "1dd00a95",
   "metadata": {},
   "outputs": [
    {
     "data": {
      "text/plain": [
       "     fun: 0.7071067811874266\n",
       "     jac: array([2.60902409e-06, 1.39888100e-06])\n",
       " message: 'Optimization terminated successfully.'\n",
       "    nfev: 492\n",
       "     nit: 15\n",
       " success: True\n",
       "       x: array([0.5000005 , 0.50000033])"
      ]
     },
     "execution_count": 21,
     "metadata": {},
     "output_type": "execute_result"
    }
   ],
   "source": [
    "minimizer.result"
   ]
  },
  {
   "cell_type": "code",
   "execution_count": 22,
   "id": "05a6395f",
   "metadata": {},
   "outputs": [
    {
     "data": {
      "text/plain": [
       "492"
      ]
     },
     "execution_count": 22,
     "metadata": {},
     "output_type": "execute_result"
    }
   ],
   "source": [
    "minimizer.number_evaluations_last_call"
   ]
  }
 ],
 "metadata": {
  "kernelspec": {
   "display_name": "Python 3 (ipykernel)",
   "language": "python",
   "name": "python3"
  },
  "language_info": {
   "codemirror_mode": {
    "name": "ipython",
    "version": 3
   },
   "file_extension": ".py",
   "mimetype": "text/x-python",
   "name": "python",
   "nbconvert_exporter": "python",
   "pygments_lexer": "ipython3",
   "version": "3.9.7"
  },
  "toc": {
   "base_numbering": 1,
   "nav_menu": {},
   "number_sections": true,
   "sideBar": true,
   "skip_h1_title": false,
   "title_cell": "Table of Contents",
   "title_sidebar": "Contents",
   "toc_cell": false,
   "toc_position": {},
   "toc_section_display": true,
   "toc_window_display": false
  },
  "varInspector": {
   "cols": {
    "lenName": 16,
    "lenType": 16,
    "lenVar": 40
   },
   "kernels_config": {
    "python": {
     "delete_cmd_postfix": "",
     "delete_cmd_prefix": "del ",
     "library": "var_list.py",
     "varRefreshCmd": "print(var_dic_list())"
    },
    "r": {
     "delete_cmd_postfix": ") ",
     "delete_cmd_prefix": "rm(",
     "library": "var_list.r",
     "varRefreshCmd": "cat(var_dic_list()) "
    }
   },
   "types_to_exclude": [
    "module",
    "function",
    "builtin_function_or_method",
    "instance",
    "_Feature"
   ],
   "window_display": false
  }
 },
 "nbformat": 4,
 "nbformat_minor": 5
}
